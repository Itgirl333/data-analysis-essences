{
 "cells": [
  {
   "cell_type": "markdown",
   "id": "5736ef0b",
   "metadata": {},
   "source": [
    "## Python、Pandas、NumPy資料型別\n",
    "|資料型別|Python type|Pandas dtype|NumPy type|\n",
    "|-|-|-|-|\n",
    "|字串/非數字|str or mixed|object|string_, unicode_, mixed types|\n",
    "|整數|int|int64|int_, int8, int16, int32, int64, uint8, uint16, uint32, uint64|\n",
    "|浮點數|float|float64|float_, float16, float32, float64|\n",
    "|步林|bool|bool|bool_|\n",
    "|日期時間|datetime|datetime64|datetime64[ns]|\n",
    "|時間差|NA|timedelta[ns]|NA|\n",
    "|列舉|NA|category|NA|"
   ]
  },
  {
   "cell_type": "markdown",
   "id": "a43c9f2b",
   "metadata": {},
   "source": [
    "參考資料：[10 minutes to pandas](https://pandas.pydata.org/docs/user_guide/10min.html)\n",
    "[Pandas Cheat Sheet](https://www.cnblogs.com/hhh5460/p/7454849.html)"
   ]
  },
  {
   "cell_type": "code",
   "execution_count": null,
   "id": "98ba2898",
   "metadata": {},
   "outputs": [],
   "source": [
    "import numpy as np\n",
    "import pandas as pd"
   ]
  },
  {
   "cell_type": "markdown",
   "id": "db4c6f73",
   "metadata": {},
   "source": [
    "## 建立DataFrame\n",
    "**pd.DataFrame(data=None, index=None, columns=None)**\n",
    "* list產生DataFrame\n",
    "* tuple產生DataFrame\n",
    "* dict產生DataFrame：dict的Key是唯一值，若有相同Key，value將被覆蓋\n",
    "* Array產生DataFrame"
   ]
  },
  {
   "cell_type": "code",
   "execution_count": null,
   "id": "9e7610cc",
   "metadata": {},
   "outputs": [],
   "source": [
    "l = list(np.random.randint(100, size = (10, 10)))\n",
    "df = pd.DataFrame(l)"
   ]
  },
  {
   "cell_type": "code",
   "execution_count": null,
   "id": "7bc280b2",
   "metadata": {},
   "outputs": [],
   "source": [
    "d = {\n",
    "    \"date\": pd.date_range(\"2017-10-01\", periods = 7, freq = 'D'),\n",
    "    \"str\": [\"Mon.\", \"Tue.\", \"Wed.\", \"Thu.\", \"Fri.\", \"Sat.\", \"Sun.\"],\n",
    "    \"chr\": list('abcdefg'),\n",
    "    \"int\": list(range(0, 70, 10)),\n",
    "    \"float\": np.random.random(size = 7),\n",
    "    \"bool\": np.random.randint(5, 15, size = 7) % 2 == 0,\n",
    "}\n",
    "df = pd.DataFrame(d)"
   ]
  },
  {
   "cell_type": "code",
   "execution_count": null,
   "id": "a3dd47c8",
   "metadata": {},
   "outputs": [],
   "source": [
    "cities = ['Austin', 'Dallas', 'Austin', 'Dallas']\n",
    "weekdays = ['Sun', 'Sun', 'Mon', 'Mon']\n",
    "visitors = [139, 237, 326, 456]\n",
    "list_labels = ['city', 'weekday', 'visitor']\n",
    "list_cols = [cities, weekdays, visitors]\n",
    "\n",
    "zipped = zip(list_labels, list_cols)\n",
    "df = pd.DataFrame(dict(zipped))"
   ]
  },
  {
   "cell_type": "markdown",
   "id": "376f47ad",
   "metadata": {},
   "source": [
    "## DataFrame屬性\n",
    "* DataFrame.index\n",
    "* DataFrame.columns\n",
    "* DataFrame.shape\n",
    "* DataFrame.size\n",
    "* DataFrame.dtypes"
   ]
  },
  {
   "cell_type": "code",
   "execution_count": null,
   "id": "abbcd7d5",
   "metadata": {},
   "outputs": [],
   "source": [
    "print('df.index：', df.index)\n",
    "print('df.columns：', df.columns)\n",
    "print('df.shape：', df.shape)\n",
    "print('df.size：', df.size)\n",
    "print('df.dtypes: ', df.dtypes)\n",
    "print(len(df))"
   ]
  },
  {
   "cell_type": "markdown",
   "id": "bf99bc34",
   "metadata": {},
   "source": [
    "## DataFrame描述統計\n",
    "* DataFrame.info()：資訊查詢\n",
    "* DataFrame.describe()：描述統計\n",
    "* DataFrame.mean()：計算平均\n",
    "* DataFrame.median()：中位數\n",
    "* DataFrame.sum()：計算總和\n",
    "* DataFrame.std()：標準差。\n",
    "* DataFrame.max()：最大值\n",
    "* DataFrame.min()：最小值\n",
    "* DataFrame.agg()：聚合函數"
   ]
  },
  {
   "cell_type": "code",
   "execution_count": null,
   "id": "b30f820d",
   "metadata": {},
   "outputs": [],
   "source": [
    "df.info()\n",
    "df.describe()\n",
    "df.mean()       #df.mean(1)\n",
    "df.median()\n",
    "df.sum()\n",
    "df.std()\n",
    "df.max()\n",
    "df.min()\n",
    "df.agg(['sum', 'max', 'mean', 'median', 'std', 'min', 'count'])"
   ]
  },
  {
   "cell_type": "markdown",
   "id": "2ebadc17",
   "metadata": {},
   "source": [
    "## DataFrame增加元素\n",
    "### 新增Column"
   ]
  },
  {
   "cell_type": "code",
   "execution_count": null,
   "id": "1088b71f",
   "metadata": {},
   "outputs": [],
   "source": [
    "scores = {'座號':[1, 2, 3 ,4, 5, 6, 7],\n",
    "          '姓名':['劉德華', '黎明', '郭富城', '張學友', '張惠妹', '伍百', '孫燕姿'],\n",
    "          '國文':[50, 56, 78, 96, 21, 58, 63],\n",
    "          '英文':[56, 78, 63, 25, 98, 25, 87],\n",
    "          '數學':[65, 78, 96, 65, 45, 25, 81]\n",
    "}\n",
    "df = pd.DataFrame(scores)\n",
    "#方法一：\n",
    "df['歷史'] = [90, 33, 45, 80, 60, 56, 69] \n",
    "#方法二：\n",
    "#df.insert(5, \"歷史\", [90, 70, 45, 80, 60, 33, 25]) "
   ]
  },
  {
   "cell_type": "markdown",
   "id": "e0a587d0",
   "metadata": {},
   "source": [
    "### 新增Row"
   ]
  },
  {
   "cell_type": "code",
   "execution_count": null,
   "id": "3155f252",
   "metadata": {},
   "outputs": [],
   "source": [
    "newdata = pd.DataFrame({'座號':[8],\n",
    "                        '姓名':['蕭亞軒'],\n",
    "                        '國文':[70],\n",
    "                        '英文':[90],\n",
    "                        '數學':[59]})\n",
    "#方法一：\n",
    "df = df.append(newdata, ignore_index = True)\n",
    "#方法二：\n",
    "#df.loc['7'] = [8, '張清允', 100, 100, 100, 100, 100]"
   ]
  },
  {
   "cell_type": "markdown",
   "id": "1927bcef",
   "metadata": {},
   "source": [
    "## 設定index & columns"
   ]
  },
  {
   "cell_type": "code",
   "execution_count": null,
   "id": "b3bf55aa",
   "metadata": {},
   "outputs": [],
   "source": [
    "df.columns = ['座號','姓名','自然','地理','社會','政治']               #修改列名（需要写上所有列名，包括要修改的和不要修改的)\n",
    "df.rename(columns = {\"國文\": \"自然\",\"數學\":\"社會\",\"英文\":\"地理\"})     #修改列名（只需写上需要修改的列）\n",
    "\n",
    "df.index = list(range(1,8))\n",
    "df.rename(index = {0: \"零\", 1:'一', 2:'二', 3:'三', 4:'四', 5:'五', 6:'六'})\n",
    "\n",
    "df.set_index('座號', inplace = True)\n",
    "df.sort_index(inplace = True)\n",
    "df.reset_index(inplace = True)\n",
    "df.reindex(...)\n",
    "\n",
    "#調整列順序\n",
    "df = df[['user_id','book_id','rating','mark_date']]"
   ]
  },
  {
   "cell_type": "markdown",
   "id": "c9cb9157",
   "metadata": {},
   "source": [
    "## DataFrame取值、改值、切片\n",
    "### 取值：df.loc (名稱選值)；df.iloc (索引選值)"
   ]
  },
  {
   "cell_type": "code",
   "execution_count": null,
   "id": "54861670",
   "metadata": {},
   "outputs": [],
   "source": [
    "df.loc[2, '姓名']\n",
    "df.iloc[2, 1]"
   ]
  },
  {
   "cell_type": "markdown",
   "id": "5dd65784",
   "metadata": {},
   "source": [
    "### 改值"
   ]
  },
  {
   "cell_type": "code",
   "execution_count": null,
   "id": "cbe0981a",
   "metadata": {},
   "outputs": [],
   "source": [
    "df.iloc[1,2] = 10\n",
    "df[df > 0] = -df"
   ]
  },
  {
   "cell_type": "markdown",
   "id": "85fb4dd3",
   "metadata": {},
   "source": [
    "### 切片：以column進行項目挑選"
   ]
  },
  {
   "cell_type": "code",
   "execution_count": null,
   "id": "fbcea5a4",
   "metadata": {},
   "outputs": [],
   "source": [
    "df['姓名']\n",
    "#df.loc[:, '姓名']\n",
    "#df.iloc[:, 1]\n",
    "#df.iloc[:, [1, 4]]\n",
    "df[['國文', '英文', '數學']]\n",
    "#df.loc[:, ['國文', '英文', '數學']]\n",
    "#df.loc[:, '國文':'數學']\n",
    "#df.loc[:, '國文':]\n",
    "#df.iloc[:, 2:5]\n",
    "#df.iloc[:, 2:]"
   ]
  },
  {
   "cell_type": "markdown",
   "id": "c9ec27d3",
   "metadata": {},
   "source": [
    "### 切片：以 index進行項目挑選\n",
    "使用df.loc連續取值範圍與 df.iloc 不同"
   ]
  },
  {
   "cell_type": "code",
   "execution_count": null,
   "id": "2cb5eacc",
   "metadata": {},
   "outputs": [],
   "source": [
    "#連續取值\n",
    "df[2:6]\n",
    "df.loc[2:5]\n",
    "df.iloc[2:6]\n",
    "\n",
    "#不連續取值\n",
    "df[0::2]\n",
    "df.loc[0::2]\n",
    "df.iloc[0::2]"
   ]
  },
  {
   "cell_type": "markdown",
   "id": "91af38e9",
   "metadata": {},
   "source": [
    "### 切片：index 與 column 綜合進行項目挑選"
   ]
  },
  {
   "cell_type": "code",
   "execution_count": null,
   "id": "edb84555",
   "metadata": {},
   "outputs": [],
   "source": [
    "df.iloc[2:6, [1, -1]]\n",
    "df.loc[2:5, ['姓名', '數學']]\n",
    "#df[['姓名', '數學']].iloc[2:6]\n",
    "#df[['姓名', '數學']].loc[2:5]"
   ]
  },
  {
   "cell_type": "markdown",
   "id": "114aa684",
   "metadata": {},
   "source": [
    "## 篩選"
   ]
  },
  {
   "cell_type": "code",
   "execution_count": null,
   "id": "98117538",
   "metadata": {},
   "outputs": [],
   "source": [
    "df[df['國文'] > 60]\n",
    "df[(df['國文'] > 60) & (df['英文'] > 60)]\n",
    "df.loc[df['國文'] > 60, [\"姓名\", \"歷史\"]]"
   ]
  },
  {
   "cell_type": "code",
   "execution_count": null,
   "id": "4447d6bc",
   "metadata": {},
   "outputs": [],
   "source": [
    "df[df['姓名'].isin(list)]\n",
    "df[~df['姓名'].isin(list)]"
   ]
  },
  {
   "cell_type": "code",
   "execution_count": null,
   "id": "1209ca79",
   "metadata": {},
   "outputs": [],
   "source": [
    "df['姓名'][df['英文'].idxmax()]\n",
    "df.loc[df['英文'].idxmax(), '姓名']\n",
    "df.iloc[df['英文'].idxmax(), 1]"
   ]
  },
  {
   "cell_type": "code",
   "execution_count": null,
   "id": "e8cab615",
   "metadata": {},
   "outputs": [],
   "source": [
    "df.iloc[[df['國文'].idxmax(), df['歷史'].idxmin()]]\n",
    "df.iloc[[df['國文'].idxmax()]+[df['歷史'].idxmin()]]"
   ]
  },
  {
   "cell_type": "code",
   "execution_count": null,
   "id": "54533d47",
   "metadata": {},
   "outputs": [],
   "source": [
    "df.query('AQI<50 and AQI>60')\n",
    "df.select_dtypes(include = [\"int64\", \"float64\"])"
   ]
  },
  {
   "cell_type": "markdown",
   "id": "90f90112",
   "metadata": {},
   "source": [
    "## 合併\n",
    "### concat"
   ]
  },
  {
   "cell_type": "code",
   "execution_count": null,
   "id": "7321b63d",
   "metadata": {},
   "outputs": [],
   "source": [
    "df = pd.concat([df1, df2], axis = 1, ignore_index = True)"
   ]
  },
  {
   "cell_type": "markdown",
   "id": "5fbb14a3",
   "metadata": {},
   "source": [
    "### merge"
   ]
  },
  {
   "cell_type": "code",
   "execution_count": null,
   "id": "e69d5dcf",
   "metadata": {},
   "outputs": [],
   "source": [
    "df1 = pd.DataFrame({'key': ['K0', 'K1', 'K2', 'K3'],\n",
    "                     'A': ['A0', 'A1', 'A2', 'A3'],\n",
    "                     'B': ['B0', 'B1', 'B2', 'B3']})\n",
    "df2 = pd.DataFrame({'key': ['K0', 'K1', 'K2', 'K3'],\n",
    "                      'C': ['C0', 'C1', 'C2', 'C3'],\n",
    "                      'D': ['D0', 'D1', 'D2', 'D3']})\n",
    "\n",
    "display(df1)\n",
    "display(df2)\n",
    "df = pd.merge(df1, df2, on='key')"
   ]
  },
  {
   "cell_type": "code",
   "execution_count": null,
   "id": "624191b9",
   "metadata": {},
   "outputs": [],
   "source": [
    "#how參數：left:以左邊為主；right：以右邊為主；outer：不管key；inner：以相同key為主，配合on\n",
    "df = pd.merge(df1, df2, on=['key1', 'key2'], how='inner')\n",
    "\n",
    "df = pd.merge(df1, df2, left_index=True, right_index=True, how='outer')\n",
    "df = pd.merge(df1, df2, on='col1', how='outer', indicator=True)"
   ]
  },
  {
   "cell_type": "markdown",
   "id": "3876f6a4",
   "metadata": {},
   "source": [
    "## 轉換類型"
   ]
  },
  {
   "cell_type": "code",
   "execution_count": null,
   "id": "8f377bcb",
   "metadata": {},
   "outputs": [],
   "source": [
    "df = df.astype({'col1' : 'int', 'col2' : 'object'})"
   ]
  },
  {
   "cell_type": "markdown",
   "id": "217402f4",
   "metadata": {},
   "source": [
    "### 轉換為 str 字符串類型"
   ]
  },
  {
   "cell_type": "code",
   "execution_count": null,
   "id": "8f60cd7f",
   "metadata": {},
   "outputs": [],
   "source": [
    "#方法一：\n",
    "df['A'] = df['A'].astype('str')\n",
    "df[['A','B']] = df[['A','B']].astype('str')\n",
    "\n",
    "#方法二：\n",
    "df['A'] = df['A'].apply(lambda _: str(_))\n",
    "df[['A','B']] = df[['A','B']].apply(lambda _: str(_))  #錯誤，不能使用 apply 方法將函式應用於多個列"
   ]
  },
  {
   "cell_type": "markdown",
   "id": "2649c721",
   "metadata": {},
   "source": [
    "### 轉換為 int 整數類型"
   ]
  },
  {
   "cell_type": "code",
   "execution_count": null,
   "id": "0a0380f4",
   "metadata": {},
   "outputs": [],
   "source": [
    "#方法一：\n",
    "df['A'] = df['A'].astype('int')\n",
    "\n",
    "#方法二：\n",
    "df['A'] = pd.to_numeric(df['A'])\n",
    "df = df.apply(pd.to_numeric, errors = 'coerce')"
   ]
  },
  {
   "cell_type": "markdown",
   "id": "96a4b02f",
   "metadata": {},
   "source": [
    "### 轉換為 datetime 類型"
   ]
  },
  {
   "cell_type": "code",
   "execution_count": null,
   "id": "1a393b63",
   "metadata": {},
   "outputs": [],
   "source": [
    "df['date'] = pd.to_datetime(df['date'])\n",
    "df['date'] = df['date'].dt.strftime('%m-%d %Y')"
   ]
  },
  {
   "cell_type": "markdown",
   "id": "27b1b6c8",
   "metadata": {},
   "source": [
    "### 轉換為 分類 類型"
   ]
  },
  {
   "cell_type": "code",
   "execution_count": null,
   "id": "ef658c4c",
   "metadata": {},
   "outputs": [],
   "source": [
    "#方法一：\n",
    "df['type'] = df['type'].astype('category')\n",
    "#方法二：\n",
    "df['type'] = pd.Categorical(df['type'])"
   ]
  },
  {
   "cell_type": "markdown",
   "id": "35fddad5",
   "metadata": {},
   "source": [
    "### int整數 mapping成 str字符串"
   ]
  },
  {
   "cell_type": "code",
   "execution_count": null,
   "id": "e06a3d67",
   "metadata": {},
   "outputs": [],
   "source": [
    "df['condition'] = df['condition'].map({1:'positive', -1:'negative', 0:'neutral'})\n",
    "\n",
    "df['condition'] = df['condition'].replace({1:'positive', -1:'negative', 0:'neutral'})"
   ]
  },
  {
   "cell_type": "markdown",
   "id": "6d9af8e9",
   "metadata": {},
   "source": [
    "### Dataframe 或 Series 轉換為 list 類型"
   ]
  },
  {
   "cell_type": "code",
   "execution_count": null,
   "id": "3c3aafc0",
   "metadata": {},
   "outputs": [],
   "source": [
    "df['a'].tolist()\n",
    "df['a'].drop_duplicates().tolist()     #去重\n",
    "list(df['a'])"
   ]
  },
  {
   "cell_type": "markdown",
   "id": "a38637af",
   "metadata": {},
   "source": [
    "### Dataframe 或 Series 轉換為 Numpy Array 類型"
   ]
  },
  {
   "cell_type": "code",
   "execution_count": null,
   "id": "596c6e60",
   "metadata": {},
   "outputs": [],
   "source": [
    "df.values"
   ]
  },
  {
   "cell_type": "code",
   "execution_count": null,
   "id": "c0bfccaa",
   "metadata": {},
   "outputs": [],
   "source": [
    "df.to_numpy()"
   ]
  },
  {
   "cell_type": "markdown",
   "id": "13f1c24c",
   "metadata": {},
   "source": [
    "### Series 轉換為 DataFrame"
   ]
  },
  {
   "cell_type": "code",
   "execution_count": null,
   "id": "bc1c47e4",
   "metadata": {},
   "outputs": [],
   "source": [
    "df = s.to_frame()"
   ]
  },
  {
   "cell_type": "markdown",
   "id": "f5493e30",
   "metadata": {},
   "source": [
    "## 其他用法"
   ]
  },
  {
   "cell_type": "markdown",
   "id": "93a8b140",
   "metadata": {},
   "source": [
    "### 空值"
   ]
  },
  {
   "cell_type": "code",
   "execution_count": null,
   "id": "87cceaf4",
   "metadata": {},
   "outputs": [],
   "source": [
    "df.isna()\n",
    "df.isnull().sum()\n",
    "df.notnull()\n",
    "df.notna()\n",
    "\n",
    "df.fillna(df.mean())\n",
    "df.fillna(0)"
   ]
  },
  {
   "cell_type": "markdown",
   "id": "075be7d6",
   "metadata": {},
   "source": [
    "### 刪除"
   ]
  },
  {
   "cell_type": "code",
   "execution_count": null,
   "id": "26fc22fe",
   "metadata": {},
   "outputs": [],
   "source": [
    "df.drop(columns = 'col', axis = 1, inplace = True)\n",
    "df.drop(np.where((df['col1'] == 0) | (df['col2'] == 0))[0], inplace = True)"
   ]
  },
  {
   "cell_type": "markdown",
   "id": "493d3957",
   "metadata": {},
   "source": [
    "### 刪除空值"
   ]
  },
  {
   "cell_type": "code",
   "execution_count": null,
   "id": "bacc59c9",
   "metadata": {},
   "outputs": [],
   "source": [
    "df.dropna(subset = ['col1','col2'], how = 'any', inplace = True)     #how：any只要有空值就删（默认），all全部空值才删"
   ]
  },
  {
   "cell_type": "markdown",
   "id": "1b4cb711",
   "metadata": {},
   "source": [
    "### 刪除重複"
   ]
  },
  {
   "cell_type": "code",
   "execution_count": null,
   "id": "f2aa4a3f",
   "metadata": {},
   "outputs": [],
   "source": [
    "df.drop_duplicates(subset = 'col', keep = 'first', inplace = True)"
   ]
  },
  {
   "cell_type": "code",
   "execution_count": null,
   "id": "c42b9ab8",
   "metadata": {},
   "outputs": [],
   "source": [
    "df['col'].unique()             ##處理單列時使用，並返回一列的所有唯一元素，最終輸出是一個陣列\n",
    "df['col'].unique().size        #去重後統計數量\n",
    "df['col'].nunique()            #功能同上，去重後統計數量"
   ]
  },
  {
   "cell_type": "markdown",
   "id": "02ac924f",
   "metadata": {},
   "source": [
    "### 分組"
   ]
  },
  {
   "cell_type": "code",
   "execution_count": null,
   "id": "8620ba29",
   "metadata": {},
   "outputs": [],
   "source": [
    "df.groupby('col').describe() # 描述性统计\n",
    "df.groupby('col').sum() # 求和\n",
    "df.groupby('col').count() # 每组数量，不包括缺失值\n",
    "df.groupby('col').max() # 求最大值\n",
    "df.groupby('col').min() # 求最小值\n",
    "df.groupby('col').size() # 分组数量\n",
    "df.groupby('col').mean() # 平均值\n",
    "df.groupby('col').median() # 中位数\n",
    "df.groupby('col').std() # 标准差\n",
    "df.groupby('col').var() # 方差\n",
    "\n",
    "df.groupby('col').first() # 组内第一个\n",
    "df.groupby('col').get_group('group name')\n",
    "df.groupby(['col1', 'col2']) \n",
    "df.groupby('col1')['col2'].hist()\n",
    "df.groupby('col1')['col2'].apply()"
   ]
  },
  {
   "cell_type": "markdown",
   "id": "4f390399",
   "metadata": {},
   "source": [
    "### 排序"
   ]
  },
  {
   "cell_type": "code",
   "execution_count": null,
   "id": "ea4f7554",
   "metadata": {},
   "outputs": [],
   "source": [
    "df[['總分', '平均']] = df.apply(lambda x:x[2:].agg(['sum', 'mean']), axis = 1)\n",
    "df['總排名'] = df['總分'].rank(method = 'min', ascending = False)\n",
    "df.sort_values('總排名')"
   ]
  },
  {
   "cell_type": "markdown",
   "id": "f71da8db",
   "metadata": {},
   "source": [
    "### 區間\n",
    "pandas.cut(x, bins, right=True, labels=None)，用途：回傳 x 中的每一個數據在bins 中對應的範圍\n",
    "- x ：必須是一維資料來源\n",
    "- bins：整數、序列或間隔索引\n",
    "- labels：對應bins區間的文字列表"
   ]
  },
  {
   "cell_type": "code",
   "execution_count": null,
   "id": "3ed81aac",
   "metadata": {},
   "outputs": [],
   "source": [
    "bins = list(np.linspace(150, 301, 6))\n",
    "content = [\"再努力\", \"不錯\", \"很好\", \"很棒\", \"很棒棒\"]\n",
    "df[\"成績評語\"] = pd.cut(df['總分'], bins, labels = content)"
   ]
  },
  {
   "cell_type": "code",
   "execution_count": null,
   "id": "b2abd03a",
   "metadata": {},
   "outputs": [],
   "source": [
    "pd.value_counts(pd.cut(df['總分'], bins))"
   ]
  },
  {
   "cell_type": "markdown",
   "id": "31895b7c",
   "metadata": {},
   "source": [
    "### 計數"
   ]
  },
  {
   "cell_type": "code",
   "execution_count": null,
   "id": "8a3bc6c2",
   "metadata": {},
   "outputs": [],
   "source": [
    "df['col'].value_counts()\n",
    "df['col'].value_counts(ascending = True)"
   ]
  },
  {
   "cell_type": "markdown",
   "id": "1ac0e2da",
   "metadata": {},
   "source": [
    "### 一列拆分成多列"
   ]
  },
  {
   "cell_type": "code",
   "execution_count": null,
   "id": "e47ea7c0",
   "metadata": {},
   "outputs": [],
   "source": [
    "df2 = df['col'].str.split(',', expand = True)\n",
    "df2 = df['col'].str.split(',').apply(pd.Series)[1]"
   ]
  },
  {
   "cell_type": "markdown",
   "id": "7b366b6b",
   "metadata": {},
   "source": [
    "### 合併兩列文字"
   ]
  },
  {
   "cell_type": "code",
   "execution_count": null,
   "id": "f0c62753",
   "metadata": {},
   "outputs": [],
   "source": [
    "#方法一：\n",
    "df[\"Full Name\"] = df[\"First\"] + \" \" + df[\"Last\"]\n",
    "\n",
    "#方法二：\n",
    "df['Full Name'] = df[['First', 'Last']].apply(' '.join, axis=1)\n",
    "\n",
    "#方法三：\n",
    "df['Full Name'] = df['First'].str.cat(df['Last'], sep=\" \")"
   ]
  },
  {
   "cell_type": "markdown",
   "id": "cbde6ea5",
   "metadata": {},
   "source": [
    "### 取代"
   ]
  },
  {
   "cell_type": "code",
   "execution_count": null,
   "id": "38f0364d",
   "metadata": {},
   "outputs": [],
   "source": [
    "df.replace(r'\\\\n','', regex=True, inplace = True)"
   ]
  },
  {
   "cell_type": "markdown",
   "id": "84533749",
   "metadata": {},
   "source": [
    "### 字符串資料處理"
   ]
  },
  {
   "cell_type": "code",
   "execution_count": null,
   "id": "1e3c6123",
   "metadata": {},
   "outputs": [],
   "source": [
    "df['col'].str.upper()\n",
    "df['col'].str.lower()\n",
    "df['col'].str.title()\n",
    "df['col'].str.capitalize()\n",
    "\n",
    "df['col'].str.contains(\"高雄 | 台南\")\n",
    "df['col'].str.startswith()\n",
    "df['col'].str.endswith()\n",
    "     \n",
    "df['col'].str.extract('(.+)@', expand=True)            #仅提取第一个匹配项。expand:布尔型,是否返回DataFrame\n",
    "df['col'].str.extract('(.+)@(.+)')                \n",
    "df['col'].str.extractall('([a-z]+)@([a-z.]+)')         #提取所有匹配项\n",
    "\n",
    "df['col'].str.find(sub, start=0, end=None)\n",
    "df['col'].str.findall(pat, flags=0)\n",
    "df['手機號'].str.findall(r'(\\d+)').apply(lambda n:''.join(n)).apply(lambda n:n[2:] if n.startswith('86') else n)\n",
    "\n",
    "df['col'].str.split(',', expand=True)\n",
    "\n",
    "df['col'].str.replace(' ', '')\n",
    "\n",
    "df['col'].str.strip()\n",
    "df['col'].str.strip('123.!? \\n\\t')\n",
    "df['col'].str.lstrip('123.')\n",
    "df['col'].str.rstrip('123.')\n",
    "\n",
    "df['col'].str.get(i)       #Extract element from lists, tuples, strings in each element in the Series/Index\n",
    "df['col'].str[2:]"
   ]
  },
  {
   "cell_type": "markdown",
   "id": "16e80a4f",
   "metadata": {},
   "source": [
    "### Apply"
   ]
  },
  {
   "cell_type": "code",
   "execution_count": null,
   "id": "e854e678",
   "metadata": {},
   "outputs": [],
   "source": [
    "df.select_dtypes(include = [\"int64\"]).apply(pd.Series.nunique, axis = 0)"
   ]
  },
  {
   "cell_type": "code",
   "execution_count": null,
   "id": "4e05fefe",
   "metadata": {},
   "outputs": [],
   "source": [
    "df['col'].str.split(',').apply(pd.Series)[1]"
   ]
  },
  {
   "cell_type": "markdown",
   "id": "d59f7961",
   "metadata": {},
   "source": [
    "### Map"
   ]
  },
  {
   "cell_type": "code",
   "execution_count": null,
   "id": "10312811",
   "metadata": {},
   "outputs": [],
   "source": [
    "target_name = {\n",
    "    0:'setosa',\n",
    "    1:'versicolor',\n",
    "    2:'virginica'\n",
    "}\n",
    "\n",
    "df['target_name'] = df['target'].map(target_name)"
   ]
  },
  {
   "cell_type": "markdown",
   "id": "e18ff41c",
   "metadata": {},
   "source": [
    "### 樞紐分析"
   ]
  },
  {
   "cell_type": "code",
   "execution_count": null,
   "id": "96b3ac35",
   "metadata": {},
   "outputs": [],
   "source": [
    "pd.crosstab([df['pclass'], df['sex'], df['survived'])"
   ]
  },
  {
   "cell_type": "code",
   "execution_count": null,
   "id": "fd3830a4",
   "metadata": {},
   "outputs": [],
   "source": [
    "df.pivot(index = 'col1', columns = 'col2', values = 'col3')"
   ]
  },
  {
   "cell_type": "markdown",
   "id": "22aab835",
   "metadata": {},
   "source": [
    "## 資料存取(CSV、Excel、SQLite)\n",
    "### 儲存與讀取 CSV\n",
    "- pandas無法讀取中文名稱檔案\n",
    "- 直接存檔至 CSV 會多出一個Column，因為pandas自動將index一起存入 CSV，可添加 index = 0去掉index\n",
    "- Python3 預設編碼為 UTF-8，不指定編碼儲直接存成CSV檔，再以 Excel 開啟該 CSV 檔，將會遇到中文亂碼，因為Windows 的 Excel 不支援 UTF-8。要解決上述問題，改變輸出編碼為 BIG-5，添加 encoding = 'big5'。"
   ]
  },
  {
   "cell_type": "code",
   "execution_count": null,
   "id": "7550df82",
   "metadata": {},
   "outputs": [],
   "source": [
    "df.to_csv('scores.csv', index = 0)\n",
    "#df.to_csv('scores.csv', encoding = 'big5', index = 0)"
   ]
  },
  {
   "cell_type": "code",
   "execution_count": null,
   "id": "2d2f0fc6",
   "metadata": {},
   "outputs": [],
   "source": [
    "df = pd.read_csv('scores.csv')\n",
    "#df = pd.read_csv('scores.csv', encoding = 'big5', index_col = 2)    #index_col 可以指定列作為索引"
   ]
  },
  {
   "cell_type": "markdown",
   "id": "4b5175c1",
   "metadata": {},
   "source": [
    "### 儲存與讀取 Excel"
   ]
  },
  {
   "cell_type": "code",
   "execution_count": null,
   "id": "f63a2fcc",
   "metadata": {},
   "outputs": [],
   "source": [
    "df.to_excel('scores.xlsx', index = 0)\n",
    "#df.to_excel('scores.xlsx', sheet_name = \"學生成績\", index = 0)"
   ]
  },
  {
   "cell_type": "code",
   "execution_count": null,
   "id": "c8989955",
   "metadata": {},
   "outputs": [],
   "source": [
    "df = pd.read_excel('scores.xlsx')\n",
    "#df = pd.read_excel('scores.xlsx', sheet_name = \"學生成績\")"
   ]
  },
  {
   "cell_type": "code",
   "execution_count": null,
   "id": "20a619f7",
   "metadata": {},
   "outputs": [],
   "source": [
    "from pandas import ExcelWriter\n",
    "\n",
    "with ExcelWriter('data.xlsx') as writer:\n",
    "    df_total.to_excel(writer, sheet_name=\"total\", encoding='utf-8')\n",
    "    df_unique.to_excel(writer, sheet_name=\"unique\", encoding='utf-8')\n",
    "    writer.save()"
   ]
  },
  {
   "cell_type": "markdown",
   "id": "05524723",
   "metadata": {},
   "source": [
    "### 儲存與讀取 SQLite"
   ]
  },
  {
   "cell_type": "code",
   "execution_count": null,
   "id": "e1b7372f",
   "metadata": {},
   "outputs": [],
   "source": [
    "import sqlite3 as lite\n",
    "\n",
    "with lite.connect(\"student_scores.sqlite\") as db:\n",
    "    df.to_sql(name ='student', con = db, if_exists='replace')"
   ]
  },
  {
   "cell_type": "code",
   "execution_count": null,
   "id": "4723ff41",
   "metadata": {},
   "outputs": [],
   "source": [
    "import sqlite3 as lite\n",
    "with lite.connect('student_scores.sqlite') as db:\n",
    "    df = pd.read_sql_query('SELECT * FROM student;', db, index_col = ['index'])\n",
    "df.head()"
   ]
  },
  {
   "cell_type": "code",
   "execution_count": null,
   "id": "cf0bec75",
   "metadata": {},
   "outputs": [],
   "source": []
  },
  {
   "cell_type": "code",
   "execution_count": null,
   "id": "c2fee336",
   "metadata": {},
   "outputs": [],
   "source": []
  },
  {
   "cell_type": "code",
   "execution_count": null,
   "id": "c736e315",
   "metadata": {},
   "outputs": [],
   "source": []
  },
  {
   "cell_type": "code",
   "execution_count": null,
   "id": "48c3335d",
   "metadata": {},
   "outputs": [],
   "source": []
  },
  {
   "cell_type": "code",
   "execution_count": null,
   "id": "d984eeef",
   "metadata": {},
   "outputs": [],
   "source": [
    "import requests\n",
    "from bs4 import BeautifulSoup as bs\n",
    "import pandas as pd\n",
    "import re\n",
    "\n",
    "url = 'https://www.opec.org/basket/basketDay.json'\n",
    "r = requests.get(url)\n",
    "l = r.text.replace('Date.UTC','')\n",
    "df = pd.DataFrame(eval(l))\n",
    "df"
   ]
  },
  {
   "cell_type": "code",
   "execution_count": null,
   "id": "d8eb758f",
   "metadata": {},
   "outputs": [],
   "source": [
    "df.values.tolist()\n",
    "df.apply(lambda x:\"https://news.cnyes.com/news/id/{}\".format(x[0]), axis = 1)"
   ]
  }
 ],
 "metadata": {
  "kernelspec": {
   "display_name": "Python 3 (ipykernel)",
   "language": "python",
   "name": "python3"
  },
  "language_info": {
   "codemirror_mode": {
    "name": "ipython",
    "version": 3
   },
   "file_extension": ".py",
   "mimetype": "text/x-python",
   "name": "python",
   "nbconvert_exporter": "python",
   "pygments_lexer": "ipython3",
   "version": "3.9.16"
  }
 },
 "nbformat": 4,
 "nbformat_minor": 5
}
