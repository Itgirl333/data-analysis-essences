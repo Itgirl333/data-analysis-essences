{
 "cells": [
  {
   "cell_type": "markdown",
   "id": "5736ef0b",
   "metadata": {},
   "source": [
    "## Python、Pandas、NumPy資料型別\n",
    "|資料型別|Python type|Pandas dtype|NumPy type|\n",
    "|-|-|-|-|\n",
    "|字串/非數字|str or mixed|object|string_, unicode_, mixed types|\n",
    "|整數|int|int64|int_, int8, int16, int32, int64, uint8, uint16, uint32, uint64|\n",
    "|浮點數|float|float64|float_, float16, float32, float64|\n",
    "|步林|bool|bool|bool_|\n",
    "|日期時間|datetime|datetime64|datetime64[ns]|\n",
    "|時間差|NA|timedelta[ns]|NA|\n",
    "|列舉|NA|category|NA|"
   ]
  },
  {
   "cell_type": "code",
   "execution_count": 8,
   "id": "98ba2898",
   "metadata": {},
   "outputs": [],
   "source": [
    "import numpy as np\n",
    "import pandas as pd"
   ]
  },
  {
   "cell_type": "markdown",
   "id": "306e9bc3",
   "metadata": {},
   "source": [
    "## 建立Series\n",
    "* list產生Series\n",
    "* tuple產生Series\n",
    "* dict產生Series：dict的Key是唯一值，若有相同Key，value將被覆蓋\n",
    "* Array產生Series"
   ]
  },
  {
   "cell_type": "code",
   "execution_count": 45,
   "id": "9feaf8d1",
   "metadata": {},
   "outputs": [
    {
     "name": "stdout",
     "output_type": "stream",
     "text": [
      "a    11\n",
      "d    22\n",
      "c    33\n",
      "b    44\n",
      "e    55\n",
      "dtype: int64\n",
      "10    66\n",
      "11    77\n",
      "12    88\n",
      "dtype: int64\n",
      "0    0\n",
      "1    1\n",
      "2    2\n",
      "3    3\n",
      "4    4\n",
      "5    5\n",
      "6    6\n",
      "7    7\n",
      "8    8\n",
      "9    9\n",
      "dtype: int64\n"
     ]
    }
   ],
   "source": [
    "s1 = pd.Series([11,22,33,44,55], index = list(\"adcbe\"))\n",
    "print(s1)\n",
    "s2 = pd.Series({10:66, 11:77, 12:88})\n",
    "print(s2)\n",
    "s = pd.Series(np.arange(10), index = range(0, 10))\n",
    "print(s)"
   ]
  },
  {
   "cell_type": "markdown",
   "id": "e99c4cc4",
   "metadata": {},
   "source": [
    "## Series查詢元素"
   ]
  },
  {
   "cell_type": "code",
   "execution_count": 46,
   "id": "463f0809",
   "metadata": {},
   "outputs": [
    {
     "name": "stdout",
     "output_type": "stream",
     "text": [
      "5\n",
      "\n",
      "1    1\n",
      "3    3\n",
      "5    5\n",
      "7    7\n",
      "dtype: int64\n",
      "\n",
      "1    1\n",
      "3    3\n",
      "5    5\n",
      "7    7\n",
      "dtype: int64\n"
     ]
    }
   ],
   "source": [
    "print(s[5])\n",
    "print()\n",
    "print(s[1:9:2])\n",
    "print()\n",
    "print(s[list(range(1, 9, 2))])"
   ]
  },
  {
   "cell_type": "code",
   "execution_count": 47,
   "id": "c165393f",
   "metadata": {},
   "outputs": [
    {
     "name": "stdout",
     "output_type": "stream",
     "text": [
      "0    0\n",
      "1    1\n",
      "2    2\n",
      "3    3\n",
      "4    4\n",
      "5    5\n",
      "6    6\n",
      "dtype: int64\n",
      "\n",
      "3    3\n",
      "4    4\n",
      "5    5\n",
      "6    6\n",
      "dtype: int64\n",
      "\n",
      "2    2\n",
      "3    3\n",
      "4    4\n",
      "5    5\n",
      "6    6\n",
      "dtype: int64\n"
     ]
    }
   ],
   "source": [
    "print(s[s<7])\n",
    "print()\n",
    "print(s[(2 < s) & (s < 7)])\n",
    "print()\n",
    "print(s[2:7][s<7])"
   ]
  },
  {
   "cell_type": "markdown",
   "id": "47e5b0f9",
   "metadata": {},
   "source": [
    "## Series增加元素\n",
    "Series 以 append 添加的項目不會改變原本 Series 的內容，而是產生新的Series"
   ]
  },
  {
   "cell_type": "code",
   "execution_count": 29,
   "id": "67d282bd",
   "metadata": {},
   "outputs": [
    {
     "data": {
      "text/plain": [
       "0    11\n",
       "1    22\n",
       "2    33\n",
       "3    44\n",
       "4    55\n",
       "5    66\n",
       "6    77\n",
       "7    88\n",
       "dtype: int64"
      ]
     },
     "execution_count": 29,
     "metadata": {},
     "output_type": "execute_result"
    }
   ],
   "source": [
    "s1.append(s2, ignore_index = True)"
   ]
  },
  {
   "cell_type": "markdown",
   "id": "00dc9187",
   "metadata": {},
   "source": [
    "## Series更新元素"
   ]
  },
  {
   "cell_type": "code",
   "execution_count": 48,
   "id": "0dca5f65",
   "metadata": {},
   "outputs": [
    {
     "data": {
      "text/plain": [
       "0     0\n",
       "1    10\n",
       "2     2\n",
       "3     3\n",
       "4     4\n",
       "5     5\n",
       "6     6\n",
       "7     7\n",
       "8    80\n",
       "9    80\n",
       "dtype: int64"
      ]
     },
     "execution_count": 48,
     "metadata": {},
     "output_type": "execute_result"
    }
   ],
   "source": [
    "s[1] = 10\n",
    "s[8:] = 80\n",
    "s"
   ]
  },
  {
   "cell_type": "markdown",
   "id": "734faa10",
   "metadata": {},
   "source": [
    "## Series刪除元素"
   ]
  },
  {
   "cell_type": "code",
   "execution_count": 49,
   "id": "af5d28fb",
   "metadata": {},
   "outputs": [
    {
     "name": "stdout",
     "output_type": "stream",
     "text": [
      "0     0\n",
      "1    10\n",
      "2     2\n",
      "4     4\n",
      "5     5\n",
      "6     6\n",
      "7     7\n",
      "8    80\n",
      "9    80\n",
      "dtype: int64\n",
      "0     0\n",
      "3     3\n",
      "4     4\n",
      "6     6\n",
      "7     7\n",
      "8    80\n",
      "9    80\n",
      "dtype: int64\n"
     ]
    }
   ],
   "source": [
    "print(s.drop(3))\n",
    "s = s.drop([1, 2, 5])\n",
    "print(s)"
   ]
  },
  {
   "cell_type": "markdown",
   "id": "c424e5b5",
   "metadata": {},
   "source": [
    "## Series基本運算\n",
    "- Series.describe()：描述統計\n",
    "- Series.mean()：均值\n",
    "- Series.median()：中位數\n",
    "- Series.sum()：求和\n",
    "- Series.std()：標準差\n",
    "- Series.mode()：眾數\n",
    "- Series.max()：最大值\n",
    "- Series.idmax()：最大值的索引\n",
    "- Series.value_counts()：每個值的數量\n",
    "- Series.agg()：聚合函數"
   ]
  },
  {
   "cell_type": "code",
   "execution_count": 61,
   "id": "4b38e69a",
   "metadata": {},
   "outputs": [
    {
     "name": "stdout",
     "output_type": "stream",
     "text": [
      "0    29\n",
      "1    25\n",
      "2    27\n",
      "3     9\n",
      "4    12\n",
      "5     1\n",
      "6    12\n",
      "7    13\n",
      "8    11\n",
      "dtype: int64\n",
      "\n",
      "count     9.000000\n",
      "mean     15.444444\n",
      "std       9.408920\n",
      "min       1.000000\n",
      "25%      11.000000\n",
      "50%      12.000000\n",
      "75%      25.000000\n",
      "max      29.000000\n",
      "dtype: float64\n",
      "\n",
      "15.444444444444445 \t 12.0 \t 139 \t 9.408920117514963 \t 0    12\n",
      "dtype: int64 \t 29 \t 0\n",
      "\n",
      "12    2\n",
      "29    1\n",
      "25    1\n",
      "27    1\n",
      "9     1\n",
      "1     1\n",
      "13    1\n",
      "11    1\n",
      "dtype: int64\n"
     ]
    }
   ],
   "source": [
    "s = pd.Series(np.random.randint(30, size = 9))\n",
    "print(s)\n",
    "print()\n",
    "print(s.describe())\n",
    "print()\n",
    "print(s.mean(), \"\\t\", s.median(), \"\\t\", s.sum(), \"\\t\", s.std(), \"\\t\", s.mode(), \"\\t\", s.max(), \"\\t\", s.idxmax())\n",
    "print()\n",
    "print(s.value_counts())"
   ]
  },
  {
   "cell_type": "code",
   "execution_count": 52,
   "id": "ce25cd57",
   "metadata": {},
   "outputs": [
    {
     "name": "stdout",
     "output_type": "stream",
     "text": [
      "sum       82.000000\n",
      "max       23.000000\n",
      "mean       9.111111\n",
      "median     7.000000\n",
      "std        7.490735\n",
      "min        0.000000\n",
      "count      9.000000\n",
      "dtype: float64\n"
     ]
    }
   ],
   "source": [
    "print(s.agg(['sum', 'max', 'mean', 'median', 'std', 'min', 'count']))"
   ]
  },
  {
   "cell_type": "markdown",
   "id": "8f448f01",
   "metadata": {},
   "source": [
    "## Series加減乘除"
   ]
  },
  {
   "cell_type": "code",
   "execution_count": 59,
   "id": "bb99a062",
   "metadata": {},
   "outputs": [
    {
     "name": "stdout",
     "output_type": "stream",
     "text": [
      "0    11\n",
      "1     1\n",
      "2    18\n",
      "3     1\n",
      "4     7\n",
      "dtype: int64\n",
      "\n",
      "0    4\n",
      "1    4\n",
      "2    4\n",
      "3    8\n",
      "4    9\n",
      "dtype: int64\n",
      "\n",
      "0    15\n",
      "1     5\n",
      "2    22\n",
      "3     9\n",
      "4    16\n",
      "dtype: int64\n",
      "\n",
      "0     7\n",
      "1    -3\n",
      "2    14\n",
      "3    -7\n",
      "4    -2\n",
      "dtype: int64\n",
      "\n",
      "0    44\n",
      "1     4\n",
      "2    72\n",
      "3     8\n",
      "4    63\n",
      "dtype: int64\n",
      "\n",
      "0    2.750000\n",
      "1    0.250000\n",
      "2    4.500000\n",
      "3    0.125000\n",
      "4    0.777778\n",
      "dtype: float64\n"
     ]
    }
   ],
   "source": [
    "s1 = pd.Series(np.random.randint(20, size = 5))\n",
    "s2 = pd.Series(np.random.randint(10, size = 5))\n",
    "print(s1)\n",
    "print()\n",
    "print(s2)\n",
    "print()\n",
    "print(s1 + s2)\n",
    "print()\n",
    "print(s1 - s2)\n",
    "print()\n",
    "print(s1 * s2)\n",
    "print()\n",
    "print(s1 / s2)\n",
    "#print(s1 / 2)\n",
    "#print(s1 % 2)\n",
    "#print(s1**2)\n",
    "#print(np.sqrt(s1))\n",
    "#print(np.log(s1))"
   ]
  },
  {
   "cell_type": "markdown",
   "id": "a69db041",
   "metadata": {},
   "source": [
    "## Series排序\n",
    "使用s.sort_values() 在沒覆蓋原始資料，將無法修改s的內容，若要覆蓋原始資料要改寫成 s = s.sort_values() 或 s.sort_values(inplace=True)"
   ]
  },
  {
   "cell_type": "code",
   "execution_count": 62,
   "id": "bcf70c5b",
   "metadata": {},
   "outputs": [
    {
     "name": "stdout",
     "output_type": "stream",
     "text": [
      "0    15\n",
      "1    18\n",
      "2    11\n",
      "3     2\n",
      "4     8\n",
      "5     4\n",
      "6    11\n",
      "7    17\n",
      "dtype: int64\n",
      "\n",
      "3     2\n",
      "5     4\n",
      "4     8\n",
      "2    11\n",
      "6    11\n",
      "0    15\n",
      "7    17\n",
      "1    18\n",
      "dtype: int64\n",
      "\n",
      "1    18\n",
      "7    17\n",
      "0    15\n",
      "2    11\n",
      "6    11\n",
      "4     8\n",
      "5     4\n",
      "3     2\n",
      "dtype: int64\n"
     ]
    }
   ],
   "source": [
    "s = pd.Series(np.random.randint(30, size = 8))\n",
    "print(s)\n",
    "print()\n",
    "print(s.sort_values())\n",
    "print()\n",
    "print(s.sort_values(ascending=False))"
   ]
  },
  {
   "cell_type": "markdown",
   "id": "1613b5f9",
   "metadata": {},
   "source": [
    "## Series 缺失值處理\n",
    "- 缺失值(NA)定義：None、numpy.nan\n",
    "- 非缺失值(NA)：\"\"、False、np.inf\n",
    "- Python中，若要判斷資料中是否存在缺失值，可使用 isnull()、isna() 判別，或使用 notnull()、notna() 判別非空數量與總數量的差\n",
    "- 資料中存在缺失值NA，需要填補，可以 fillna(數值) 填補。 "
   ]
  },
  {
   "cell_type": "code",
   "execution_count": 66,
   "id": "0c8d3108",
   "metadata": {},
   "outputs": [
    {
     "name": "stdout",
     "output_type": "stream",
     "text": [
      "[19.0 nan 23.0 '' 9.0 False 17.0 19.0 18.0 nan inf] 11\n",
      "\n",
      "isnull 判斷NA存在與否： [False  True False False False False False False False  True False]\n",
      "\n",
      "isna 判斷NA存在與否： [False  True False False False False False False False  True False]\n",
      "\n",
      "非 NA 數量 isnull：9, isna：9\n",
      "\n",
      "非 NA 數量 notnull：9, notna：9\n"
     ]
    }
   ],
   "source": [
    "s = pd.Series(np.random.randint(30, size = 10))\n",
    "s[1] = None\n",
    "s[3] = \"\"\n",
    "s[5] = False\n",
    "s[9] = np.nan\n",
    "s[12] = np.inf\n",
    "\n",
    "print(s.values, len(s))\n",
    "print()\n",
    "print(\"isnull 判斷NA存在與否：\", s.isnull().values)\n",
    "print()\n",
    "print(\"isna 判斷NA存在與否：\", s.isna().values)\n",
    "print()\n",
    "print(\"非 NA 數量 isnull：{}, isna：{}\".format(len(s) - s.isnull().sum(), len(s) - s.isna().sum()))\n",
    "print()\n",
    "print(\"非 NA 數量 notnull：{}, notna：{}\".format(s.notnull().sum(), s.notna().sum()))"
   ]
  },
  {
   "cell_type": "code",
   "execution_count": 67,
   "id": "b025a08a",
   "metadata": {},
   "outputs": [
    {
     "name": "stdout",
     "output_type": "stream",
     "text": [
      "0      19.0\n",
      "1         0\n",
      "2      23.0\n",
      "3          \n",
      "4       9.0\n",
      "5     False\n",
      "6      17.0\n",
      "7      19.0\n",
      "8      18.0\n",
      "9         0\n",
      "12      inf\n",
      "dtype: object\n",
      "\n",
      "0      19.0\n",
      "1       0.0\n",
      "2      23.0\n",
      "3          \n",
      "4       9.0\n",
      "5     False\n",
      "6      17.0\n",
      "7      19.0\n",
      "8      18.0\n",
      "9       4.0\n",
      "12      inf\n",
      "dtype: object\n"
     ]
    }
   ],
   "source": [
    "print(s.fillna(0))\n",
    "print()\n",
    "print(s.fillna({1: 0, 3: 1, 5: 2, 7: 3, 9: 4, 11: 5}))"
   ]
  },
  {
   "cell_type": "markdown",
   "id": "e2f40be8",
   "metadata": {},
   "source": [
    "## Series垂直合併 & 水平合併"
   ]
  },
  {
   "cell_type": "code",
   "execution_count": 70,
   "id": "acd6d25e",
   "metadata": {},
   "outputs": [
    {
     "name": "stdout",
     "output_type": "stream",
     "text": [
      "0     0.872792\n",
      "1     0.886681\n",
      "2     0.616811\n",
      "3     0.933825\n",
      "4     0.452563\n",
      "5     0.383057\n",
      "6     0.663677\n",
      "7     0.901769\n",
      "8     0.950067\n",
      "9     0.525637\n",
      "10    0.154941\n",
      "11    0.557717\n",
      "12    0.682394\n",
      "13    0.810360\n",
      "14    0.526413\n",
      "15    0.076177\n",
      "16    0.771774\n",
      "17    0.045212\n",
      "18    0.649675\n",
      "19    0.996822\n",
      "dtype: float64\n",
      "           0         1\n",
      "0   0.872792       NaN\n",
      "1   0.886681       NaN\n",
      "2   0.616811       NaN\n",
      "3   0.933825       NaN\n",
      "4   0.452563       NaN\n",
      "5   0.383057       NaN\n",
      "6   0.663677       NaN\n",
      "7   0.901769       NaN\n",
      "8   0.950067       NaN\n",
      "9   0.525637       NaN\n",
      "10       NaN  0.154941\n",
      "11       NaN  0.557717\n",
      "12       NaN  0.682394\n",
      "13       NaN  0.810360\n",
      "14       NaN  0.526413\n",
      "15       NaN  0.076177\n",
      "16       NaN  0.771774\n",
      "17       NaN  0.045212\n",
      "18       NaN  0.649675\n",
      "19       NaN  0.996822\n"
     ]
    }
   ],
   "source": [
    "s1 = pd.Series(np.random.rand(10), index = range(0,10))\n",
    "s2 = pd.Series(np.random.rand(10), index = range(10,20))\n",
    "s3 = pd.concat([s1, s2])\n",
    "print(s3)\n",
    "s4 = pd.concat([s1, s2],axis=1)\n",
    "print(s4)"
   ]
  },
  {
   "cell_type": "markdown",
   "id": "317c93e4",
   "metadata": {},
   "source": [
    "## Series轉成Dataframe"
   ]
  },
  {
   "cell_type": "code",
   "execution_count": 69,
   "id": "e09cf46c",
   "metadata": {},
   "outputs": [
    {
     "data": {
      "text/html": [
       "<div>\n",
       "<style scoped>\n",
       "    .dataframe tbody tr th:only-of-type {\n",
       "        vertical-align: middle;\n",
       "    }\n",
       "\n",
       "    .dataframe tbody tr th {\n",
       "        vertical-align: top;\n",
       "    }\n",
       "\n",
       "    .dataframe thead th {\n",
       "        text-align: right;\n",
       "    }\n",
       "</style>\n",
       "<table border=\"1\" class=\"dataframe\">\n",
       "  <thead>\n",
       "    <tr style=\"text-align: right;\">\n",
       "      <th></th>\n",
       "      <th>0</th>\n",
       "    </tr>\n",
       "  </thead>\n",
       "  <tbody>\n",
       "    <tr>\n",
       "      <th>0</th>\n",
       "      <td>19.0</td>\n",
       "    </tr>\n",
       "    <tr>\n",
       "      <th>1</th>\n",
       "      <td>NaN</td>\n",
       "    </tr>\n",
       "    <tr>\n",
       "      <th>2</th>\n",
       "      <td>23.0</td>\n",
       "    </tr>\n",
       "    <tr>\n",
       "      <th>3</th>\n",
       "      <td></td>\n",
       "    </tr>\n",
       "    <tr>\n",
       "      <th>4</th>\n",
       "      <td>9.0</td>\n",
       "    </tr>\n",
       "    <tr>\n",
       "      <th>5</th>\n",
       "      <td>False</td>\n",
       "    </tr>\n",
       "    <tr>\n",
       "      <th>6</th>\n",
       "      <td>17.0</td>\n",
       "    </tr>\n",
       "    <tr>\n",
       "      <th>7</th>\n",
       "      <td>19.0</td>\n",
       "    </tr>\n",
       "    <tr>\n",
       "      <th>8</th>\n",
       "      <td>18.0</td>\n",
       "    </tr>\n",
       "    <tr>\n",
       "      <th>9</th>\n",
       "      <td>NaN</td>\n",
       "    </tr>\n",
       "    <tr>\n",
       "      <th>12</th>\n",
       "      <td>inf</td>\n",
       "    </tr>\n",
       "  </tbody>\n",
       "</table>\n",
       "</div>"
      ],
      "text/plain": [
       "        0\n",
       "0    19.0\n",
       "1     NaN\n",
       "2    23.0\n",
       "3        \n",
       "4     9.0\n",
       "5   False\n",
       "6    17.0\n",
       "7    19.0\n",
       "8    18.0\n",
       "9     NaN\n",
       "12    inf"
      ]
     },
     "execution_count": 69,
     "metadata": {},
     "output_type": "execute_result"
    }
   ],
   "source": [
    "df = s.to_frame()\n",
    "df"
   ]
  },
  {
   "cell_type": "code",
   "execution_count": null,
   "id": "5c5609d6",
   "metadata": {},
   "outputs": [],
   "source": []
  },
  {
   "cell_type": "code",
   "execution_count": null,
   "id": "7550df82",
   "metadata": {},
   "outputs": [],
   "source": []
  }
 ],
 "metadata": {
  "kernelspec": {
   "display_name": "Python 3 (ipykernel)",
   "language": "python",
   "name": "python3"
  },
  "language_info": {
   "codemirror_mode": {
    "name": "ipython",
    "version": 3
   },
   "file_extension": ".py",
   "mimetype": "text/x-python",
   "name": "python",
   "nbconvert_exporter": "python",
   "pygments_lexer": "ipython3",
   "version": "3.9.7"
  }
 },
 "nbformat": 4,
 "nbformat_minor": 5
}
