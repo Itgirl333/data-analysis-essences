{
 "cells": [
  {
   "cell_type": "markdown",
   "id": "5736ef0b",
   "metadata": {},
   "source": [
    "## NumPy特點\n",
    "- 資料結構是多維陣列(ndarray)，提供多維度陣列與矩陣運算\n",
    "- 擁有基本四則運算、線性代數、隨機亂數產生、傅立葉變換，不需要編寫迴圈\n",
    "- 底層以 C、C++、Fortran 語言實作\n",
    "- 為Pandas、SciPy、Scikit-learn 等套件的基礎\n",
    "- 讀取/寫入磁碟上的陣列數據、文件\n",
    "- 參考資料：[Numpy](https://numpy.org/doc/stable/index.html)\n",
    "\n",
    "## Python、Pandas、NumPy資料型別\n",
    "|資料型別|Python type|Pandas dtype|NumPy type|\n",
    "|-|-|-|-|\n",
    "|字串/非數字|str or mixed|object|string_, unicode_, mixed types|\n",
    "|整數|int|int64|int_, int8, int16, int32, int64, uint8, uint16, uint32, uint64|\n",
    "|浮點數|float|float64|float_, float16, float32, float64|\n",
    "|步林|bool|bool|bool_|\n",
    "|日期時間|datetime|datetime64|datetime64[ns]|\n",
    "|時間差|NA|timedelta[ns]|NA|\n",
    "|列舉|NA|category|NA|"
   ]
  },
  {
   "cell_type": "code",
   "execution_count": 1,
   "id": "d8e849d4",
   "metadata": {},
   "outputs": [],
   "source": [
    "import numpy as np"
   ]
  },
  {
   "cell_type": "markdown",
   "id": "b36ca060",
   "metadata": {},
   "source": [
    "## 創建陣列\n",
    "### np.array(object, dtype=None, copy=True)\n",
    "建立陣列，指定陣列資料類型。ndarray 對象的屬性：\n",
    "- np.ndim：維度\n",
    "- np.shape：ndarray對象的尺度，n行m列\n",
    "- np.size：ndarray對象元素的個數，相當於n*m的值\n",
    "- np.dtype：ndarray對象的元素類型\n",
    "- np.itemsize：ndarray對象中每個元素的大小，以字節為單位"
   ]
  },
  {
   "cell_type": "code",
   "execution_count": 43,
   "id": "e69dbd8a",
   "metadata": {},
   "outputs": [
    {
     "data": {
      "text/plain": [
       "array([[[ 1,  2,  3],\n",
       "        [ 4,  5,  6]],\n",
       "\n",
       "       [[10, 11, 12],\n",
       "        [13, 14, 15]]])"
      ]
     },
     "execution_count": 43,
     "metadata": {},
     "output_type": "execute_result"
    }
   ],
   "source": [
    "a = np.array([[[1, 2, 3], [4, 5, 6]],[[10, 11, 12], [13, 14, 15]]])    #建立三維陣列\n",
    "a"
   ]
  },
  {
   "cell_type": "code",
   "execution_count": 38,
   "id": "e6fd42d3",
   "metadata": {},
   "outputs": [
    {
     "name": "stdout",
     "output_type": "stream",
     "text": [
      "3 (2, 2, 3) 12 int64\n"
     ]
    }
   ],
   "source": [
    "print(a.ndim, a.shape, a.size, a.dtype)"
   ]
  },
  {
   "cell_type": "markdown",
   "id": "95b2d318",
   "metadata": {},
   "source": [
    "## 轉換資料類型、調整陣列維度\n",
    "### np.array().astype(dtype)\n",
    "轉換陣列元素的資料類型\n",
    "\n",
    "### np.array().reshape(shape)\n",
    "重新調整陣列維度"
   ]
  },
  {
   "cell_type": "code",
   "execution_count": 39,
   "id": "8fe3d8b2",
   "metadata": {},
   "outputs": [
    {
     "data": {
      "text/plain": [
       "array([[[ 1.,  2.,  3.],\n",
       "        [ 4.,  5.,  6.]],\n",
       "\n",
       "       [[10., 11., 12.],\n",
       "        [13., 14., 15.]]])"
      ]
     },
     "execution_count": 39,
     "metadata": {},
     "output_type": "execute_result"
    }
   ],
   "source": [
    "b = a.astype(np.float64)\n",
    "b"
   ]
  },
  {
   "cell_type": "code",
   "execution_count": 40,
   "id": "2ed6d3b2",
   "metadata": {},
   "outputs": [
    {
     "data": {
      "text/plain": [
       "array([[[ 1,  2],\n",
       "        [ 3,  4]],\n",
       "\n",
       "       [[ 5,  6],\n",
       "        [10, 11]],\n",
       "\n",
       "       [[12, 13],\n",
       "        [14, 15]]])"
      ]
     },
     "execution_count": 40,
     "metadata": {},
     "output_type": "execute_result"
    }
   ],
   "source": [
    "a.reshape(3,2,2)"
   ]
  },
  {
   "cell_type": "markdown",
   "id": "341a26e9",
   "metadata": {},
   "source": [
    "## 創建等差陣列\n",
    "### np.linspace(start, stop, num=50, endpoint=True)\n",
    "創建一個初值和終值之間的 num 個數組成的等差數列\n",
    "\n",
    "### np.arange([start,] stop[, step,], dtype=None)\n",
    "透過指定初值、終值和步進值的方式創建用於表示等差陣列的一維陣列"
   ]
  },
  {
   "cell_type": "code",
   "execution_count": 10,
   "id": "dbdab1ec",
   "metadata": {},
   "outputs": [
    {
     "data": {
      "text/plain": [
       "array([  10.,  120.,  230.,  340.,  450.,  560.,  670.,  780.,  890.,\n",
       "       1000.])"
      ]
     },
     "execution_count": 10,
     "metadata": {},
     "output_type": "execute_result"
    }
   ],
   "source": [
    "np.linspace(10, 1000, 10)"
   ]
  },
  {
   "cell_type": "code",
   "execution_count": 11,
   "id": "b0cf6029",
   "metadata": {},
   "outputs": [
    {
     "data": {
      "text/plain": [
       "array([ 0,  1,  2,  3,  4,  5,  6,  7,  8,  9, 10, 11])"
      ]
     },
     "execution_count": 11,
     "metadata": {},
     "output_type": "execute_result"
    }
   ],
   "source": [
    "np.arange(12)"
   ]
  },
  {
   "cell_type": "markdown",
   "id": "759f5936",
   "metadata": {},
   "source": [
    "## 創建特定陣列\n",
    "### np.emtpy(shape, dtype=float)\n",
    "創建未初始化的陣列\n",
    "\n",
    "### np.zeros(shape, dtype=float)\n",
    "創建值為 0、任意維度且任一資料類型的陣列，常用來做初始化\n",
    "\n",
    "### np.ones(shape, dtype=None)\n",
    "創建值為 0、任意維度的陣列\n",
    "\n",
    "### np.identity(n, dtype=None) 或 np.eye(n)\n",
    "創建對角線值為 1 其餘為 0 的單位矩陣\n",
    "\n",
    "### np.full(shape, fill_value)\n",
    "創建指定值為 fill_value、形狀為 shape 的陣列"
   ]
  },
  {
   "cell_type": "code",
   "execution_count": 17,
   "id": "1f354a41",
   "metadata": {},
   "outputs": [
    {
     "data": {
      "text/plain": [
       "array([[1., 1., 1.],\n",
       "       [1., 1., 1.]])"
      ]
     },
     "execution_count": 17,
     "metadata": {},
     "output_type": "execute_result"
    }
   ],
   "source": [
    "np.empty((2, 3))"
   ]
  },
  {
   "cell_type": "code",
   "execution_count": 18,
   "id": "95f1e9b2",
   "metadata": {},
   "outputs": [
    {
     "data": {
      "text/plain": [
       "array([[0, 0, 0],\n",
       "       [0, 0, 0]])"
      ]
     },
     "execution_count": 18,
     "metadata": {},
     "output_type": "execute_result"
    }
   ],
   "source": [
    "np.zeros((2, 3), int)"
   ]
  },
  {
   "cell_type": "code",
   "execution_count": 19,
   "id": "0161dd2b",
   "metadata": {
    "scrolled": true
   },
   "outputs": [
    {
     "data": {
      "text/plain": [
       "array([[[1, 1, 1, 1],\n",
       "        [1, 1, 1, 1]],\n",
       "\n",
       "       [[1, 1, 1, 1],\n",
       "        [1, 1, 1, 1]],\n",
       "\n",
       "       [[1, 1, 1, 1],\n",
       "        [1, 1, 1, 1]]])"
      ]
     },
     "execution_count": 19,
     "metadata": {},
     "output_type": "execute_result"
    }
   ],
   "source": [
    "np.ones((3, 2, 4), int)"
   ]
  },
  {
   "cell_type": "code",
   "execution_count": 20,
   "id": "955b8adc",
   "metadata": {},
   "outputs": [
    {
     "data": {
      "text/plain": [
       "array([[1., 0., 0.],\n",
       "       [0., 1., 0.],\n",
       "       [0., 0., 1.]])"
      ]
     },
     "execution_count": 20,
     "metadata": {},
     "output_type": "execute_result"
    }
   ],
   "source": [
    "np.identity(3)"
   ]
  },
  {
   "cell_type": "code",
   "execution_count": 36,
   "id": "261ebe9d",
   "metadata": {},
   "outputs": [
    {
     "data": {
      "text/plain": [
       "array([[1., 0., 0.],\n",
       "       [0., 1., 0.],\n",
       "       [0., 0., 1.]])"
      ]
     },
     "execution_count": 36,
     "metadata": {},
     "output_type": "execute_result"
    }
   ],
   "source": [
    "np.eye(3)"
   ]
  },
  {
   "cell_type": "code",
   "execution_count": 21,
   "id": "765dbf23",
   "metadata": {},
   "outputs": [
    {
     "data": {
      "text/plain": [
       "array([[33, 33, 33],\n",
       "       [33, 33, 33],\n",
       "       [33, 33, 33]])"
      ]
     },
     "execution_count": 21,
     "metadata": {},
     "output_type": "execute_result"
    }
   ],
   "source": [
    "np.full((3, 3), 33)"
   ]
  },
  {
   "cell_type": "markdown",
   "id": "7a27d7c6",
   "metadata": {},
   "source": [
    "## 創建隨機數陣列\n",
    "### np.random.rand(d0,d1,...,dn)\n",
    "創建指定形狀(d0,d1,...,dn)、值在[0,1]區間內的均勻取樣的隨機數陣列\n",
    "\n",
    "### np.random.randn(d0,d1,...,dn)\n",
    "創建指定形狀(d0,d1,...,dn)、值在[0,1]區間內的標準正態分佈的隨機數陣列\n",
    "\n",
    "### np.random.random(shape)\n",
    "創建形狀為shape、值在[0,1]區間內的均勻取樣的隨機數陣列\n",
    "\n",
    "### np.random.randint(low, high, size, dtype)\n",
    "創建形狀為size、值在[low,high]之間的dtype類型的隨機整數，dtype的資料類型可以是int64或int\n",
    "\n",
    "### np.random.uniform(low=0.0, high=1.0, size=None)\n",
    "創建[low,high)之間的隨機数，可以是单个值，也可以是一维陣列，也可以是多维陣列\n",
    "\n",
    "### np.random.normal(loc=0.0, scale=1.0, size=None)\n",
    "創建值在[0,1]區間、按正態分佈 N(loc,scale) 取樣的隨機數或陣列"
   ]
  },
  {
   "cell_type": "code",
   "execution_count": 35,
   "id": "b49de884",
   "metadata": {},
   "outputs": [
    {
     "data": {
      "text/plain": [
       "array([0.44441373, 0.81064426, 0.7076755 , 0.86444173, 0.19936655,\n",
       "       0.57884701, 0.42252273, 0.14445106, 0.94890275, 0.6418496 ])"
      ]
     },
     "execution_count": 35,
     "metadata": {},
     "output_type": "execute_result"
    }
   ],
   "source": [
    "np.random.random(10)"
   ]
  },
  {
   "cell_type": "code",
   "execution_count": 33,
   "id": "50d4fe0b",
   "metadata": {},
   "outputs": [
    {
     "data": {
      "text/plain": [
       "array([2, 4, 2, 2, 4])"
      ]
     },
     "execution_count": 33,
     "metadata": {},
     "output_type": "execute_result"
    }
   ],
   "source": [
    "np.random.randint(1, 5, 5)"
   ]
  },
  {
   "cell_type": "code",
   "execution_count": 34,
   "id": "77663422",
   "metadata": {},
   "outputs": [
    {
     "data": {
      "text/plain": [
       "array([[4, 8, 8],\n",
       "       [4, 9, 1]])"
      ]
     },
     "execution_count": 34,
     "metadata": {},
     "output_type": "execute_result"
    }
   ],
   "source": [
    "np.random.randint(10, size = (2, 3))"
   ]
  },
  {
   "cell_type": "markdown",
   "id": "def680bf",
   "metadata": {},
   "source": [
    "## 增加、重複與鋪設\n",
    "### np.append(arr, values, axis=None)\n",
    "在已有陣列後增加內容以創建一個新的陣列\n",
    "\n",
    "### np.repeat(a, repeats, axis=None)\n",
    "沿著某個軸重複使用陣列中的元素創建一個新的陣列\n",
    "\n",
    "### np.tile(A, reps)\n",
    "將整個陣列像瓷磚一樣垂直或水平複製"
   ]
  },
  {
   "cell_type": "code",
   "execution_count": 50,
   "id": "6c2c0615",
   "metadata": {},
   "outputs": [
    {
     "name": "stdout",
     "output_type": "stream",
     "text": [
      "[[[ 1  2  3]\n",
      "  [ 4  5  6]]\n",
      "\n",
      " [[10 11 12]\n",
      "  [13 14 15]]]\n"
     ]
    },
    {
     "data": {
      "text/plain": [
       "array([[[ 1,  2,  3],\n",
       "        [ 4,  5,  6]],\n",
       "\n",
       "       [[10, 11, 12],\n",
       "        [13, 14, 15]],\n",
       "\n",
       "       [[16, 17, 18],\n",
       "        [19, 20, 21]]])"
      ]
     },
     "execution_count": 50,
     "metadata": {},
     "output_type": "execute_result"
    }
   ],
   "source": [
    "np.append(a, [[[16,17,18],[19,20,21]]], axis=0)"
   ]
  },
  {
   "cell_type": "code",
   "execution_count": 57,
   "id": "d947b79e",
   "metadata": {},
   "outputs": [
    {
     "data": {
      "text/plain": [
       "array([[[ 1,  2,  3],\n",
       "        [ 4,  5,  6]],\n",
       "\n",
       "       [[ 1,  2,  3],\n",
       "        [ 4,  5,  6]],\n",
       "\n",
       "       [[10, 11, 12],\n",
       "        [13, 14, 15]],\n",
       "\n",
       "       [[10, 11, 12],\n",
       "        [13, 14, 15]]])"
      ]
     },
     "execution_count": 57,
     "metadata": {},
     "output_type": "execute_result"
    }
   ],
   "source": [
    "np.repeat(a, 2, axis=0)"
   ]
  },
  {
   "cell_type": "markdown",
   "id": "09012381",
   "metadata": {},
   "source": [
    "## 合併\n",
    "### np.concatenate((a1, a2, ...), axis=0, out=None)\n",
    "沿著指定軸 axis 拼接多個陣列，從而創建一個新的陣列\n",
    "\n",
    "### np.stack(arrays, axis=0, out=None)\n",
    "將一系列陣列沿著 axis 的方向堆積成一個新的陣列。跟 np.concatenate() 區別在於，stack() 將合併的陣列作為一個整體進行堆積(合併)操作，因此新陣列會多出一個維度\n",
    "\n",
    "### np.hstack(tup)\n",
    "作為 np.concatenate() 的特殊形式，沿著 axis=1 方向(水平方向)進行拼接\n",
    "\n",
    "### np.column_stack(tup)\n",
    "作為 np.stack() 的特殊形式，將 tup 中的一系列一維陣列作為二維陣列的列，以創建一個二維陣列\n",
    "\n",
    "### np.vstack(tup) \n",
    "作為 np.concatenate() 的特殊形式，沿著 axis=0 方向(垂直方向)進行拼接\n",
    "\n",
    "### np.row_stack(tup)\n",
    "陣列垂直合併"
   ]
  },
  {
   "cell_type": "code",
   "execution_count": 131,
   "id": "0a1d981d",
   "metadata": {
    "scrolled": true
   },
   "outputs": [
    {
     "name": "stdout",
     "output_type": "stream",
     "text": [
      "[[1 2 3]\n",
      " [4 5 6]\n",
      " [7 8 9]]\n",
      "\n",
      "[[11 12 13]\n",
      " [14 15 16]\n",
      " [17 18 19]]\n"
     ]
    }
   ],
   "source": [
    "a = np.array([[1, 2, 3], [4, 5, 6], [7, 8, 9]])\n",
    "b = np.array([[11, 12, 13], [14, 15, 16], [17, 18, 19]])\n",
    "print(a)\n",
    "print()\n",
    "print(b)"
   ]
  },
  {
   "cell_type": "code",
   "execution_count": 108,
   "id": "0710cfb4",
   "metadata": {},
   "outputs": [
    {
     "data": {
      "text/plain": [
       "array([[ 1,  2,  3],\n",
       "       [ 4,  5,  6],\n",
       "       [ 7,  8,  9],\n",
       "       [11, 12, 13],\n",
       "       [14, 15, 16],\n",
       "       [17, 18, 19]])"
      ]
     },
     "execution_count": 108,
     "metadata": {},
     "output_type": "execute_result"
    }
   ],
   "source": [
    "np.concatenate((a, b), axis=0)"
   ]
  },
  {
   "cell_type": "code",
   "execution_count": 109,
   "id": "32a0827f",
   "metadata": {},
   "outputs": [
    {
     "data": {
      "text/plain": [
       "array([[[ 1,  2,  3],\n",
       "        [ 4,  5,  6],\n",
       "        [ 7,  8,  9]],\n",
       "\n",
       "       [[11, 12, 13],\n",
       "        [14, 15, 16],\n",
       "        [17, 18, 19]]])"
      ]
     },
     "execution_count": 109,
     "metadata": {},
     "output_type": "execute_result"
    }
   ],
   "source": [
    "np.stack((a, b), axis=0)"
   ]
  },
  {
   "cell_type": "code",
   "execution_count": 102,
   "id": "8784772b",
   "metadata": {},
   "outputs": [
    {
     "data": {
      "text/plain": [
       "array([[ 1,  2,  3, 11, 12, 13],\n",
       "       [ 4,  5,  6, 14, 15, 16],\n",
       "       [ 7,  8,  9, 17, 18, 19]])"
      ]
     },
     "execution_count": 102,
     "metadata": {},
     "output_type": "execute_result"
    }
   ],
   "source": [
    "#水平合併\n",
    "np.hstack((a, b))"
   ]
  },
  {
   "cell_type": "code",
   "execution_count": 103,
   "id": "f115b27b",
   "metadata": {},
   "outputs": [
    {
     "data": {
      "text/plain": [
       "array([[ 1,  2,  3, 11, 12, 13],\n",
       "       [ 4,  5,  6, 14, 15, 16],\n",
       "       [ 7,  8,  9, 17, 18, 19]])"
      ]
     },
     "execution_count": 103,
     "metadata": {},
     "output_type": "execute_result"
    }
   ],
   "source": [
    "np.column_stack((a, b))"
   ]
  },
  {
   "cell_type": "code",
   "execution_count": 104,
   "id": "48969f2b",
   "metadata": {},
   "outputs": [
    {
     "data": {
      "text/plain": [
       "array([[ 1,  2,  3],\n",
       "       [ 4,  5,  6],\n",
       "       [ 7,  8,  9],\n",
       "       [11, 12, 13],\n",
       "       [14, 15, 16],\n",
       "       [17, 18, 19]])"
      ]
     },
     "execution_count": 104,
     "metadata": {},
     "output_type": "execute_result"
    }
   ],
   "source": [
    "#垂直合併\n",
    "np.vstack((a, b))"
   ]
  },
  {
   "cell_type": "code",
   "execution_count": 105,
   "id": "381a1fb4",
   "metadata": {},
   "outputs": [
    {
     "data": {
      "text/plain": [
       "array([[ 1,  2,  3],\n",
       "       [ 4,  5,  6],\n",
       "       [ 7,  8,  9],\n",
       "       [11, 12, 13],\n",
       "       [14, 15, 16],\n",
       "       [17, 18, 19]])"
      ]
     },
     "execution_count": 105,
     "metadata": {},
     "output_type": "execute_result"
    }
   ],
   "source": [
    "np.row_stack((a, b))"
   ]
  },
  {
   "cell_type": "markdown",
   "id": "5d782480",
   "metadata": {},
   "source": [
    "## 分割\n",
    "### np.split(ary, indices_or_sections, axis=0)\n",
    "分割是合併相反的操作，沿著 axis 的方向對陣列進行分割\n",
    "\n",
    "### np.hsplit()\n",
    "陣列水平分割，沿著 axis=1 方向對陣列進行分割，是 np.split() 的特殊形式\n",
    "\n",
    "### np.vsplit()\n",
    "陣列垂直分割，沿著 axis=0 方向對陣列進行分割，是 np.split() 的特殊形式"
   ]
  },
  {
   "cell_type": "code",
   "execution_count": 130,
   "id": "4e152ec3",
   "metadata": {},
   "outputs": [
    {
     "data": {
      "text/plain": [
       "array([ -1.7  ,   5.55 , 123.2  ,   0.567,  25.532])"
      ]
     },
     "execution_count": 130,
     "metadata": {},
     "output_type": "execute_result"
    }
   ],
   "source": [
    "a"
   ]
  },
  {
   "cell_type": "code",
   "execution_count": 112,
   "id": "4f0d0dc1",
   "metadata": {},
   "outputs": [
    {
     "data": {
      "text/plain": [
       "[array([[1, 2, 3]]), array([[4, 5, 6]]), array([[7, 8, 9]])]"
      ]
     },
     "execution_count": 112,
     "metadata": {},
     "output_type": "execute_result"
    }
   ],
   "source": [
    "np.split(a, 3)"
   ]
  },
  {
   "cell_type": "code",
   "execution_count": 113,
   "id": "c98b5649",
   "metadata": {},
   "outputs": [
    {
     "data": {
      "text/plain": [
       "[array([[1],\n",
       "        [4],\n",
       "        [7]]),\n",
       " array([[2],\n",
       "        [5],\n",
       "        [8]]),\n",
       " array([[3],\n",
       "        [6],\n",
       "        [9]])]"
      ]
     },
     "execution_count": 113,
     "metadata": {},
     "output_type": "execute_result"
    }
   ],
   "source": [
    "np.hsplit(a, 3)"
   ]
  },
  {
   "cell_type": "code",
   "execution_count": 116,
   "id": "58115093",
   "metadata": {},
   "outputs": [
    {
     "data": {
      "text/plain": [
       "[array([[1, 2, 3]]), array([[4, 5, 6]]), array([[7, 8, 9]])]"
      ]
     },
     "execution_count": 116,
     "metadata": {},
     "output_type": "execute_result"
    }
   ],
   "source": [
    "np.vsplit(a, 3)"
   ]
  },
  {
   "cell_type": "markdown",
   "id": "143352a1",
   "metadata": {},
   "source": [
    "## 邊緣填充\n",
    "### np.pad(array, pad_width, mode='constant', **kwargs)\n",
    "\n",
    "可以對陣列的所有維度進行邊緣填充，即在維度的前後填充一些數值"
   ]
  },
  {
   "cell_type": "code",
   "execution_count": 117,
   "id": "59bac362",
   "metadata": {},
   "outputs": [
    {
     "data": {
      "text/plain": [
       "array([[2, 2, 2, 5, 2, 2, 2],\n",
       "       [2, 2, 2, 5, 2, 2, 2],\n",
       "       [7, 7, 7, 9, 7, 7, 7],\n",
       "       [2, 2, 2, 5, 2, 2, 2],\n",
       "       [2, 2, 2, 5, 2, 2, 2]])"
      ]
     },
     "execution_count": 117,
     "metadata": {},
     "output_type": "execute_result"
    }
   ],
   "source": [
    "a = [[2, 5], [7, 9]]\n",
    "np.pad(a, ((1, 2), (2, 3)), 'minimum')"
   ]
  },
  {
   "cell_type": "markdown",
   "id": "e201478c",
   "metadata": {},
   "source": [
    "## 擴充維度\n",
    "### np.expand_dims(a, axis)\n",
    "用於在 axis 的位置插入一個新的維度，從而擴充陣列"
   ]
  },
  {
   "cell_type": "code",
   "execution_count": 125,
   "id": "a5e334a3",
   "metadata": {},
   "outputs": [
    {
     "data": {
      "text/plain": [
       "array([[2, 5],\n",
       "       [7, 9]])"
      ]
     },
     "execution_count": 125,
     "metadata": {},
     "output_type": "execute_result"
    }
   ],
   "source": [
    "a = np.array([[2, 5], [7, 9]])\n",
    "a"
   ]
  },
  {
   "cell_type": "code",
   "execution_count": 124,
   "id": "52412747",
   "metadata": {},
   "outputs": [
    {
     "data": {
      "text/plain": [
       "array([[[2, 5],\n",
       "        [7, 9]]])"
      ]
     },
     "execution_count": 124,
     "metadata": {},
     "output_type": "execute_result"
    }
   ],
   "source": [
    "np.expand_dims(a, axis=0)"
   ]
  },
  {
   "cell_type": "code",
   "execution_count": 123,
   "id": "414f3932",
   "metadata": {},
   "outputs": [
    {
     "data": {
      "text/plain": [
       "array([[[2, 5]],\n",
       "\n",
       "       [[7, 9]]])"
      ]
     },
     "execution_count": 123,
     "metadata": {},
     "output_type": "execute_result"
    }
   ],
   "source": [
    "np.expand_dims(a, axis=1)"
   ]
  },
  {
   "cell_type": "markdown",
   "id": "6ba91fd6",
   "metadata": {},
   "source": [
    "## 交換維度\n",
    "有時我們需要交換陣列的維度，譬如彩色圖形的顏色通道可能是第 3 維度，而在一些程式中，顏色通道需要在第 1 維度內\n",
    "### np.swapaxes(a, axis1, axis2)\n",
    "用於交換維度\n",
    "\n",
    "### np.rollaxis(a, axis, start=0)\n",
    "用於將維度向後捲動，直到其位於維度 start 前\n",
    "\n",
    "### np.moveaxis(a, source, destination)\n",
    "用於將維度 source 移到維度 destination 處\n",
    "\n",
    "### np.transpose(a, axes=None)\n",
    "可根據 axes 中維度的次序，重新對陣列的維度進行排序，axes=None表示對維度進行反向排列：即轉置，行轉成列，列轉成行，等同於a.T"
   ]
  },
  {
   "cell_type": "code",
   "execution_count": 139,
   "id": "1b0b0c1b",
   "metadata": {},
   "outputs": [
    {
     "name": "stdout",
     "output_type": "stream",
     "text": [
      "(2, 3, 4)\n",
      "(3, 2, 4)\n"
     ]
    }
   ],
   "source": [
    "a = np.random.random((2, 3, 4))\n",
    "b = np.swapaxes(a, 0, 1)\n",
    "print(a.shape)\n",
    "print(b.shape)"
   ]
  },
  {
   "cell_type": "code",
   "execution_count": 140,
   "id": "ac2de12f",
   "metadata": {},
   "outputs": [
    {
     "name": "stdout",
     "output_type": "stream",
     "text": [
      "(4, 2, 3)\n",
      "(4, 3, 2)\n"
     ]
    }
   ],
   "source": [
    "c = np.rollaxis(a, 2, 0)\n",
    "d = np.rollaxis(c, 2, 1)\n",
    "print(c.shape)\n",
    "print(d.shape)"
   ]
  },
  {
   "cell_type": "code",
   "execution_count": 141,
   "id": "e2a51fd5",
   "metadata": {},
   "outputs": [
    {
     "name": "stdout",
     "output_type": "stream",
     "text": [
      "(4, 2, 3)\n",
      "(4, 3, 2)\n"
     ]
    }
   ],
   "source": [
    "c = np.moveaxis(a, 2, 0)\n",
    "d = np.moveaxis(c, 2, 1)\n",
    "print(c.shape)\n",
    "print(d.shape)"
   ]
  },
  {
   "cell_type": "code",
   "execution_count": 142,
   "id": "bd3eb1f7",
   "metadata": {},
   "outputs": [
    {
     "name": "stdout",
     "output_type": "stream",
     "text": [
      "(4, 3, 2)\n"
     ]
    }
   ],
   "source": [
    "e = np.transpose(a)\n",
    "print(e.shape)"
   ]
  },
  {
   "cell_type": "code",
   "execution_count": 144,
   "id": "998c3e06",
   "metadata": {
    "scrolled": true
   },
   "outputs": [
    {
     "name": "stdout",
     "output_type": "stream",
     "text": [
      "(4, 3, 2)\n"
     ]
    }
   ],
   "source": [
    "e = a.T\n",
    "print(e.shape)"
   ]
  },
  {
   "cell_type": "markdown",
   "id": "fafbda92",
   "metadata": {},
   "source": [
    "## 陣列的索引及切片\n",
    "Numpy 陣列的索引和切片不是創建新的陣列，而是創建原陣列的視窗，即子陣列是原陣列的一部分。因此透過切片所引用的變數去修改這個切片，實際上修改的是原陣列。透過切片操作得到的子陣列是原陣列的視窗，與原陣列視窗區域共用資料儲存空間；透過給每維傳遞整數陣列的索引，可創建新陣列，且新陣列和原陣列不共用資料儲存空間，即改變一個陣列的內容不影響另一個陣列\n",
    "\n",
    "## 陣列的加減乘除\n",
    "對於兩個多維陣列，可「逐元素」執行加減乘除餘等運算，以產生新的陣列。Numpy 中的函數都可以執行逐元素的運算，即對每個元素執行對應的運算，以產生新的陣列，譬如 Numpy 的 np.sqrt(), np.sin(), np.power() 函數分別用於計算陣列元素的平方根、正弦值、指數函數值。逐元素乘積也稱為 Hadamard 乘積或 Schur 乘積。兩個向量的 Hadamard 乘積是由其對應元素的乘積組成的向量，兩個矩陣的 Hadamard 乘積是由其對應元素的乘積組成的矩陣"
   ]
  },
  {
   "cell_type": "code",
   "execution_count": 126,
   "id": "98ba2898",
   "metadata": {},
   "outputs": [
    {
     "name": "stdout",
     "output_type": "stream",
     "text": [
      "a =  [2 1 4 6 3 5]\n",
      "a + 10 =  [12 11 14 16 13 15]\n",
      "a - 3 =  [-1 -2  1  3  0  2]\n",
      "a * 7 =  [14  7 28 42 21 35]\n",
      "a / 5=  [0.4 0.2 0.8 1.2 0.6 1. ]\n"
     ]
    }
   ],
   "source": [
    "a = np.array([2, 1, 4, 6, 3, 5])\n",
    "print(\"a = \", a)\n",
    "print(\"a + 10 = \", a + 10)\n",
    "print(\"a - 3 = \", a - 3)\n",
    "print(\"a * 7 = \", a * 7)\n",
    "print(\"a / 5= \", a / 5)"
   ]
  },
  {
   "cell_type": "code",
   "execution_count": 159,
   "id": "9feaf8d1",
   "metadata": {},
   "outputs": [
    {
     "name": "stdout",
     "output_type": "stream",
     "text": [
      "[[2 3 2 4]\n",
      " [7 7 9 7]\n",
      " [2 5 2 9]]\n",
      "\n",
      "[[4]\n",
      " [8]\n",
      " [0]]\n",
      "\n",
      "[[ 6  7  6  8]\n",
      " [15 15 17 15]\n",
      " [ 2  5  2  9]]\n",
      "\n",
      "[[ 8 12  8 16]\n",
      " [56 56 72 56]\n",
      " [ 0  0  0  0]]\n"
     ]
    }
   ],
   "source": [
    "a = np.random.randint(10, size = (3, 4))\n",
    "b = np.random.randint(10, size = (3, 1))\n",
    "print(a)\n",
    "print()\n",
    "print(b)\n",
    "print()\n",
    "print(a + b)\n",
    "print()\n",
    "print(a * b)"
   ]
  },
  {
   "cell_type": "code",
   "execution_count": 160,
   "id": "11589562",
   "metadata": {},
   "outputs": [
    {
     "name": "stdout",
     "output_type": "stream",
     "text": [
      "[[6 0 6 1]\n",
      " [7 4 5 8]\n",
      " [6 5 0 3]]\n",
      "\n",
      "[[ 8  3  8  5]\n",
      " [14 11 14 15]\n",
      " [ 8 10  2 12]]\n",
      "\n",
      "[[12  0 12  4]\n",
      " [49 28 45 56]\n",
      " [12 25  0 27]]\n"
     ]
    }
   ],
   "source": [
    "c = np.random.randint(10, size = (3, 4))\n",
    "print(c)\n",
    "print()\n",
    "print(a + c)\n",
    "print()\n",
    "print(a * c)"
   ]
  },
  {
   "cell_type": "markdown",
   "id": "98336e0f",
   "metadata": {},
   "source": [
    "## 最值\n",
    "### np.max(a, axis=None, out=None)\n",
    "找出陣列中最大值\n",
    "\n",
    "### np.min(a, axis=None, out=None)\n",
    "找出陣列中最小值\n",
    "\n",
    "### np.argmax(a, axis=None, out=None)\n",
    "找出陣列中最大值的index\n",
    "\n",
    "### np.argmin(a, axis=None, out=None)\n",
    "找出陣列中最小值的index"
   ]
  },
  {
   "cell_type": "code",
   "execution_count": 81,
   "id": "76da12fe",
   "metadata": {},
   "outputs": [
    {
     "data": {
      "text/plain": [
       "array([[4, 9, 8, 1],\n",
       "       [7, 1, 8, 3],\n",
       "       [2, 3, 8, 9]])"
      ]
     },
     "execution_count": 81,
     "metadata": {},
     "output_type": "execute_result"
    }
   ],
   "source": [
    "a = np.random.randint(10, size = (3, 4))\n",
    "a"
   ]
  },
  {
   "cell_type": "code",
   "execution_count": null,
   "id": "92c3a999",
   "metadata": {},
   "outputs": [],
   "source": [
    "np.max(a)"
   ]
  },
  {
   "cell_type": "code",
   "execution_count": null,
   "id": "490c9290",
   "metadata": {},
   "outputs": [],
   "source": [
    "np.min(a)"
   ]
  },
  {
   "cell_type": "code",
   "execution_count": null,
   "id": "7378b47c",
   "metadata": {},
   "outputs": [],
   "source": [
    "np.max(a, axis = 0)"
   ]
  },
  {
   "cell_type": "code",
   "execution_count": null,
   "id": "ffc38aad",
   "metadata": {},
   "outputs": [],
   "source": [
    "np.min(a, axis = 0)"
   ]
  },
  {
   "cell_type": "code",
   "execution_count": null,
   "id": "6e7b0945",
   "metadata": {},
   "outputs": [],
   "source": [
    "np.max(a, axis = 1)"
   ]
  },
  {
   "cell_type": "code",
   "execution_count": null,
   "id": "cfa39308",
   "metadata": {},
   "outputs": [],
   "source": [
    "np.min(a, axis = 1)"
   ]
  },
  {
   "cell_type": "code",
   "execution_count": null,
   "id": "69a92809",
   "metadata": {},
   "outputs": [],
   "source": [
    "np.argmax(a)"
   ]
  },
  {
   "cell_type": "code",
   "execution_count": null,
   "id": "f57b5c49",
   "metadata": {},
   "outputs": [],
   "source": [
    "np.argmin(a)"
   ]
  },
  {
   "cell_type": "code",
   "execution_count": null,
   "id": "fd282258",
   "metadata": {},
   "outputs": [],
   "source": [
    "np.argmax(a, axis = 0)"
   ]
  },
  {
   "cell_type": "code",
   "execution_count": null,
   "id": "fc019cf9",
   "metadata": {},
   "outputs": [],
   "source": [
    "np.argmin(a, axis = 0)"
   ]
  },
  {
   "cell_type": "code",
   "execution_count": null,
   "id": "a959db7e",
   "metadata": {},
   "outputs": [],
   "source": [
    "np.argmax(a, axis = 1)"
   ]
  },
  {
   "cell_type": "code",
   "execution_count": 82,
   "id": "f2dbe11b",
   "metadata": {},
   "outputs": [
    {
     "data": {
      "text/plain": [
       "array([3, 1, 0])"
      ]
     },
     "execution_count": 82,
     "metadata": {},
     "output_type": "execute_result"
    }
   ],
   "source": [
    "np.argmin(a, axis = 1)"
   ]
  },
  {
   "cell_type": "markdown",
   "id": "34bd55ce",
   "metadata": {},
   "source": [
    "## 平均數 & 標準差\n",
    "### np.mean()\n",
    "陣列平均值\n",
    "\n",
    "### np.std()\n",
    "陣列標準差\n",
    "\n",
    "### np.sum()\n",
    "陣列總和\n",
    "\n",
    "### np.cumsum()\n",
    "陣列累加"
   ]
  },
  {
   "cell_type": "code",
   "execution_count": 146,
   "id": "b025a08a",
   "metadata": {},
   "outputs": [
    {
     "data": {
      "text/plain": [
       "array([[8, 7, 5, 2],\n",
       "       [4, 1, 5, 8],\n",
       "       [5, 2, 0, 9]])"
      ]
     },
     "execution_count": 146,
     "metadata": {},
     "output_type": "execute_result"
    }
   ],
   "source": [
    "a = np.random.randint(10, size =(3, 4))\n",
    "a"
   ]
  },
  {
   "cell_type": "code",
   "execution_count": 147,
   "id": "d0c02541",
   "metadata": {},
   "outputs": [
    {
     "data": {
      "text/plain": [
       "4.666666666666667"
      ]
     },
     "execution_count": 147,
     "metadata": {},
     "output_type": "execute_result"
    }
   ],
   "source": [
    "np.mean(a)"
   ]
  },
  {
   "cell_type": "code",
   "execution_count": 148,
   "id": "e5a0e515",
   "metadata": {},
   "outputs": [
    {
     "data": {
      "text/plain": [
       "array([5.66666667, 3.33333333, 3.33333333, 6.33333333])"
      ]
     },
     "execution_count": 148,
     "metadata": {},
     "output_type": "execute_result"
    }
   ],
   "source": [
    "np.mean(a, axis = 0)"
   ]
  },
  {
   "cell_type": "code",
   "execution_count": 149,
   "id": "4c63c874",
   "metadata": {},
   "outputs": [
    {
     "data": {
      "text/plain": [
       "array([5.5, 4.5, 4. ])"
      ]
     },
     "execution_count": 149,
     "metadata": {},
     "output_type": "execute_result"
    }
   ],
   "source": [
    "np.mean(a, axis = 1)"
   ]
  },
  {
   "cell_type": "code",
   "execution_count": 150,
   "id": "57d5d24c",
   "metadata": {},
   "outputs": [
    {
     "data": {
      "text/plain": [
       "2.8382310609877335"
      ]
     },
     "execution_count": 150,
     "metadata": {},
     "output_type": "execute_result"
    }
   ],
   "source": [
    "np.std(a)"
   ]
  },
  {
   "cell_type": "code",
   "execution_count": 151,
   "id": "305122eb",
   "metadata": {},
   "outputs": [
    {
     "data": {
      "text/plain": [
       "56"
      ]
     },
     "execution_count": 151,
     "metadata": {},
     "output_type": "execute_result"
    }
   ],
   "source": [
    "np.sum(a)"
   ]
  },
  {
   "cell_type": "code",
   "execution_count": 152,
   "id": "2bf520b8",
   "metadata": {},
   "outputs": [
    {
     "data": {
      "text/plain": [
       "array([17, 10, 10, 19])"
      ]
     },
     "execution_count": 152,
     "metadata": {},
     "output_type": "execute_result"
    }
   ],
   "source": [
    "np.sum(a, axis = 0)"
   ]
  },
  {
   "cell_type": "code",
   "execution_count": 153,
   "id": "48d04ace",
   "metadata": {},
   "outputs": [
    {
     "data": {
      "text/plain": [
       "array([22, 18, 16])"
      ]
     },
     "execution_count": 153,
     "metadata": {},
     "output_type": "execute_result"
    }
   ],
   "source": [
    "np.sum(a, axis = 1)"
   ]
  },
  {
   "cell_type": "code",
   "execution_count": 154,
   "id": "7a5697c7",
   "metadata": {},
   "outputs": [
    {
     "data": {
      "text/plain": [
       "array([ 8, 15, 20, 22, 26, 27, 32, 40, 45, 47, 47, 56])"
      ]
     },
     "execution_count": 154,
     "metadata": {},
     "output_type": "execute_result"
    }
   ],
   "source": [
    "np.cumsum(a)"
   ]
  },
  {
   "cell_type": "code",
   "execution_count": 155,
   "id": "b2e10eaa",
   "metadata": {},
   "outputs": [
    {
     "data": {
      "text/plain": [
       "array([[ 8,  7,  5,  2],\n",
       "       [12,  8, 10, 10],\n",
       "       [17, 10, 10, 19]])"
      ]
     },
     "execution_count": 155,
     "metadata": {},
     "output_type": "execute_result"
    }
   ],
   "source": [
    "np.cumsum(a, axis = 0)"
   ]
  },
  {
   "cell_type": "code",
   "execution_count": 156,
   "id": "120ce22c",
   "metadata": {},
   "outputs": [
    {
     "data": {
      "text/plain": [
       "array([[ 8, 15, 20, 22],\n",
       "       [ 4,  5, 10, 18],\n",
       "       [ 5,  7,  7, 16]])"
      ]
     },
     "execution_count": 156,
     "metadata": {},
     "output_type": "execute_result"
    }
   ],
   "source": [
    "np.cumsum(a, axis = 1)"
   ]
  },
  {
   "cell_type": "markdown",
   "id": "964042c5",
   "metadata": {},
   "source": [
    "## 點積\n",
    "### np.dot()\n",
    "不同於 Hadamard 乘積是逐元素的乘積，張量的點積是向量點積和矩陣乘積的推廣。兩個向量的點積是它們對應元素乘積的和，是一個純量。矩陣的內積是 A 陣列 row 乘以 B 陣列 column。"
   ]
  },
  {
   "cell_type": "code",
   "execution_count": 16,
   "id": "67d282bd",
   "metadata": {},
   "outputs": [
    {
     "name": "stdout",
     "output_type": "stream",
     "text": [
      "[[1 6 4 7]\n",
      " [5 1 6 7]\n",
      " [8 3 3 2]]\n",
      "\n",
      "[[4 9 3 2]\n",
      " [0 0 2 5]\n",
      " [9 9 9 2]]\n",
      "\n",
      "[[ 84  43 113]\n",
      " [ 61  47 122]\n",
      " [ 72  16 130]]\n"
     ]
    }
   ],
   "source": [
    "a = np.random.randint(10, size =(3, 4))\n",
    "b = np.random.randint(10, size =(3, 4))\n",
    "print(a)\n",
    "print()\n",
    "print(b)\n",
    "print()\n",
    "print(np.dot(a, b.T))\n",
    "#print(a.dot(b.T))"
   ]
  },
  {
   "cell_type": "markdown",
   "id": "5affe2af",
   "metadata": {},
   "source": [
    "## 逆矩陣、反矩陣\n",
    "### np.linalg.inv()\n",
    "$$A = \\begin{bmatrix}\n",
    "a & b\\\\ \n",
    "c & d\n",
    "\\end{bmatrix}$$\n",
    "\n",
    "$$A^{-1} = \\frac{1}{ad-bc}\\begin{vmatrix}\n",
    "d & -b\\\\ \n",
    "-c & a\n",
    "\\end{vmatrix}$$"
   ]
  },
  {
   "cell_type": "code",
   "execution_count": 20,
   "id": "0dca5f65",
   "metadata": {},
   "outputs": [
    {
     "name": "stdout",
     "output_type": "stream",
     "text": [
      "[[7 1 6]\n",
      " [1 4 0]\n",
      " [6 1 7]]\n",
      "\n",
      "[[ 0.54901961 -0.01960784 -0.47058824]\n",
      " [-0.1372549   0.25490196  0.11764706]\n",
      " [-0.45098039 -0.01960784  0.52941176]]\n"
     ]
    }
   ],
   "source": [
    "a = np.random.randint(10, size =(3, 3))\n",
    "b = np.linalg.inv(a)\n",
    "print(a)\n",
    "print()\n",
    "print(b)"
   ]
  },
  {
   "cell_type": "markdown",
   "id": "ba0ed1d6",
   "metadata": {},
   "source": [
    "## 線性代數計算，求聯立方程式\n",
    "### np.linalg.solve()\n",
    "$$\\left\\{\\begin{matrix}\n",
    "3x + 5y - 2z - 2w = -6\\\\ x - 3y + z + 3w = 18\n",
    "\\\\ 5x + 7y - 3z - w = 4\n",
    "\\\\ 10x - y - z + 5w = 37\n",
    "\\end{matrix}\\right.$$\n",
    "上述方程式轉成矩陣，求解x：\n",
    "$$\\begin{bmatrix}\n",
    "3 & 5 & -2 & -2\\\\ \n",
    "1 & -3 & 1 & 3\\\\ \n",
    "5 & 7 & -3 & -1\\\\ \n",
    "10 & -1 & -1 & 5\n",
    "\\end{bmatrix}x = \\begin{bmatrix}\n",
    "-6\\\\18 \n",
    "\\\\ 4\n",
    "\\\\ 37\n",
    "\\end{bmatrix}$$\n",
    "\n",
    "矩陣計算方法：\n",
    "$$\\begin{matrix}\n",
    "Ax = B\\\\ A^{-1}Ax = A^{-1}B \n",
    "\\\\ x = A^{-1}B \n",
    "\\end{matrix}$$"
   ]
  },
  {
   "cell_type": "code",
   "execution_count": 21,
   "id": "af5d28fb",
   "metadata": {},
   "outputs": [
    {
     "data": {
      "text/plain": [
       "array([1., 3., 5., 7.])"
      ]
     },
     "execution_count": 21,
     "metadata": {},
     "output_type": "execute_result"
    }
   ],
   "source": [
    "a = np.array([[3, 5, -2, -2], [1, -3, 1, 3], [5, 7, -3, -1], [10, -1, -1, 5]])\n",
    "b = np.array([-6, 18, 4, 37])\n",
    "a_inv = np.linalg.inv(a)\n",
    "ans = a_inv.dot(b)\n",
    "# ans = np.linalg.solve(a, b)\n",
    "ans"
   ]
  },
  {
   "cell_type": "markdown",
   "id": "a31d84a8",
   "metadata": {},
   "source": [
    "## 四捨五入\n",
    "### np.around(a, decimals=0, out=None)\n",
    "四捨五入\n",
    "\n",
    "### np.floor()\n",
    "返回小於輸入參數的最大整數\n",
    "\n",
    "### np.ceil()\n",
    "返回大於輸入參數的最小整數"
   ]
  },
  {
   "cell_type": "code",
   "execution_count": 127,
   "id": "43b15380",
   "metadata": {},
   "outputs": [
    {
     "data": {
      "text/plain": [
       "array([ -2.,   6., 123.,   1.,  26.])"
      ]
     },
     "execution_count": 127,
     "metadata": {},
     "output_type": "execute_result"
    }
   ],
   "source": [
    "a = np.array([-1.7, 5.55,  123.2,  0.567,  25.532])  \n",
    "np.around(a)"
   ]
  },
  {
   "cell_type": "code",
   "execution_count": 85,
   "id": "59fb344b",
   "metadata": {},
   "outputs": [
    {
     "data": {
      "text/plain": [
       "array([ -1.7,   5.6, 123.2,   0.6,  25.5])"
      ]
     },
     "execution_count": 85,
     "metadata": {},
     "output_type": "execute_result"
    }
   ],
   "source": [
    "np.around(a, decimals = 1)"
   ]
  },
  {
   "cell_type": "code",
   "execution_count": 86,
   "id": "4b139a20",
   "metadata": {},
   "outputs": [
    {
     "data": {
      "text/plain": [
       "array([ -0.,  10., 120.,   0.,  30.])"
      ]
     },
     "execution_count": 86,
     "metadata": {},
     "output_type": "execute_result"
    }
   ],
   "source": [
    "np.around(a, decimals = -1)"
   ]
  },
  {
   "cell_type": "code",
   "execution_count": 87,
   "id": "809747d1",
   "metadata": {},
   "outputs": [
    {
     "data": {
      "text/plain": [
       "array([ -2.,   5., 123.,   0.,  25.])"
      ]
     },
     "execution_count": 87,
     "metadata": {},
     "output_type": "execute_result"
    }
   ],
   "source": [
    "np.floor(a)"
   ]
  },
  {
   "cell_type": "code",
   "execution_count": 24,
   "id": "4b38e69a",
   "metadata": {},
   "outputs": [
    {
     "data": {
      "text/plain": [
       "array([ -1.,   6., 124.,   1.,  26.])"
      ]
     },
     "execution_count": 24,
     "metadata": {},
     "output_type": "execute_result"
    }
   ],
   "source": [
    "np.ceil(a)"
   ]
  },
  {
   "cell_type": "markdown",
   "id": "575746f8",
   "metadata": {},
   "source": [
    "## 陣列逐步差\n",
    "### np.diff(a, n=1, axis=-1)"
   ]
  },
  {
   "cell_type": "code",
   "execution_count": 96,
   "id": "e09cf46c",
   "metadata": {},
   "outputs": [
    {
     "data": {
      "text/plain": [
       "array([[ 4,  0,  2],\n",
       "       [ 8, -3, -4],\n",
       "       [ 1, -2,  3]])"
      ]
     },
     "execution_count": 96,
     "metadata": {},
     "output_type": "execute_result"
    }
   ],
   "source": [
    "np.diff(a)"
   ]
  },
  {
   "cell_type": "code",
   "execution_count": 97,
   "id": "43a0df14",
   "metadata": {},
   "outputs": [
    {
     "data": {
      "text/plain": [
       "array([[ 0,  4,  1, -5],\n",
       "       [ 2, -5, -4,  3]])"
      ]
     },
     "execution_count": 97,
     "metadata": {},
     "output_type": "execute_result"
    }
   ],
   "source": [
    "np.diff(a, axis = 0)"
   ]
  },
  {
   "cell_type": "code",
   "execution_count": 98,
   "id": "eb883d39",
   "metadata": {},
   "outputs": [
    {
     "data": {
      "text/plain": [
       "array([[ 4,  0,  2],\n",
       "       [ 8, -3, -4],\n",
       "       [ 1, -2,  3]])"
      ]
     },
     "execution_count": 98,
     "metadata": {},
     "output_type": "execute_result"
    }
   ],
   "source": [
    "np.diff(a, axis = 1)"
   ]
  },
  {
   "cell_type": "markdown",
   "id": "3b2e6cbd",
   "metadata": {},
   "source": [
    "## 簡易判別式\n",
    "### np.where()"
   ]
  },
  {
   "cell_type": "code",
   "execution_count": 27,
   "id": "4b84c39d",
   "metadata": {},
   "outputs": [
    {
     "data": {
      "text/plain": [
       "array(['even', 'odd', 'even', 'odd', 'even', 'odd', 'even', 'odd', 'even',\n",
       "       'odd'], dtype='<U4')"
      ]
     },
     "execution_count": 27,
     "metadata": {},
     "output_type": "execute_result"
    }
   ],
   "source": [
    "a = np.arange(10)\n",
    "np.where(a % 2 == 0, 'even', 'odd')"
   ]
  },
  {
   "cell_type": "code",
   "execution_count": 28,
   "id": "a9c552f2",
   "metadata": {
    "scrolled": true
   },
   "outputs": [
    {
     "data": {
      "text/plain": [
       "array([0, 0, 0, 0, 0, 0, 0, 0, 0, 0, 1, 1, 0, 0, 0, 0, 0, 0, 0, 0, 0, 1,\n",
       "       0, 0, 0, 0, 0, 0, 1, 0, 0, 0, 0, 0, 0, 1, 1, 0, 0, 0, 0, 1, 1, 0,\n",
       "       0, 0, 0, 1, 0, 0, 0, 1, 0, 0, 0, 0, 1, 0, 0, 1, 1, 0, 0, 0, 1, 0,\n",
       "       0, 0, 0, 0, 0, 0, 0, 0, 1, 0, 0, 1, 1, 0, 0, 0, 0, 0, 0, 0, 0, 0,\n",
       "       0, 1, 0, 1, 0, 0, 0, 0, 1, 0, 0, 0])"
      ]
     },
     "execution_count": 28,
     "metadata": {},
     "output_type": "execute_result"
    }
   ],
   "source": [
    "b = np.random.randint(100, size = 100 )\n",
    "np.where(b > 80, 1, 0)"
   ]
  },
  {
   "cell_type": "markdown",
   "id": "96bed978",
   "metadata": {},
   "source": [
    "## 排序\n",
    "### np.sort()"
   ]
  },
  {
   "cell_type": "code",
   "execution_count": 76,
   "id": "7550df82",
   "metadata": {},
   "outputs": [
    {
     "data": {
      "text/plain": [
       "array([67, 62, 65, 52, 34, 37, 48, 90, 95,  9, 32, 38, 98, 43, 87, 19, 52,\n",
       "       80,  8, 58])"
      ]
     },
     "execution_count": 76,
     "metadata": {},
     "output_type": "execute_result"
    }
   ],
   "source": [
    "a = np.random.randint(100, size = 20)\n",
    "a"
   ]
  },
  {
   "cell_type": "code",
   "execution_count": 77,
   "id": "dac50da5",
   "metadata": {},
   "outputs": [
    {
     "name": "stdout",
     "output_type": "stream",
     "text": [
      "[ 8  9 19 32 34 37 38 43 48 52 52 58 62 65 67 80 87 90 95 98]\n",
      "[ 8  9 19 32 34 37 38 43 48 52 52 58 62 65 67 80 87 90 95 98]\n"
     ]
    }
   ],
   "source": [
    "#由小到大，法1\n",
    "print(np.sort(a))\n",
    "\n",
    "#由小到大，法2\n",
    "a.sort()\n",
    "print(a)"
   ]
  },
  {
   "cell_type": "code",
   "execution_count": 72,
   "id": "1677027d",
   "metadata": {},
   "outputs": [
    {
     "name": "stdout",
     "output_type": "stream",
     "text": [
      "[94 83 68 67 57 55 55 43 34 34 34 33 29 21 17 13 11  7  4  2]\n",
      "[94 83 68 67 57 55 55 43 34 34 34 33 29 21 17 13 11  7  4  2]\n"
     ]
    }
   ],
   "source": [
    "#由大到小，法1\n",
    "print(-np.sort(-a))\n",
    "\n",
    "#由大到小，法2\n",
    "a[::-1].sort()\n",
    "print(a)"
   ]
  },
  {
   "cell_type": "markdown",
   "id": "1016380d",
   "metadata": {},
   "source": [
    "## 存檔 & 讀檔\n",
    "### np.savetxt()\n",
    "\n",
    "### np.loadtxt()"
   ]
  },
  {
   "cell_type": "code",
   "execution_count": 55,
   "id": "d8eb758f",
   "metadata": {},
   "outputs": [],
   "source": [
    "a = np.asarray([[1,2,3], [4,5,6], [7,8,9]])\n",
    "np.savetxt(\"test.csv\", a, fmt=\"%.0f\", delimiter=\",\")"
   ]
  },
  {
   "cell_type": "code",
   "execution_count": 56,
   "id": "b2c2e0bc",
   "metadata": {},
   "outputs": [
    {
     "data": {
      "text/plain": [
       "array([[1., 2., 3.],\n",
       "       [4., 5., 6.],\n",
       "       [7., 8., 9.]])"
      ]
     },
     "execution_count": 56,
     "metadata": {},
     "output_type": "execute_result"
    }
   ],
   "source": [
    "b = np.loadtxt(open(\"test.csv\",\"rb\"), delimiter=\",\", skiprows=0)\n",
    "b"
   ]
  }
 ],
 "metadata": {
  "kernelspec": {
   "display_name": "Python 3 (ipykernel)",
   "language": "python",
   "name": "python3"
  },
  "language_info": {
   "codemirror_mode": {
    "name": "ipython",
    "version": 3
   },
   "file_extension": ".py",
   "mimetype": "text/x-python",
   "name": "python",
   "nbconvert_exporter": "python",
   "pygments_lexer": "ipython3",
   "version": "3.9.0"
  }
 },
 "nbformat": 4,
 "nbformat_minor": 5
}
