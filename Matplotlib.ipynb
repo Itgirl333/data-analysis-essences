{
 "cells": [
  {
   "cell_type": "markdown",
   "id": "c8ddabf9",
   "metadata": {},
   "source": [
    "[The Python Graph Gallery](https://www.python-graph-gallery.com/)、[Matplotlib 官網](https://matplotlib.org/api/artist_api.html#module-matplotlib.lines)"
   ]
  },
  {
   "cell_type": "code",
   "execution_count": null,
   "id": "bc96c2e7",
   "metadata": {},
   "outputs": [],
   "source": [
    "import numpy as np\n",
    "import pandas as pd\n",
    "import matplotlib.pyplot as plt\n",
    "import seaborn as sns"
   ]
  },
  {
   "cell_type": "markdown",
   "id": "d8cd881c",
   "metadata": {},
   "source": [
    "# 一、Matplotlab 兩種繪圖方式 \n",
    "## 1. pyplot模組 (類似 Matlab)\n",
    "\n",
    "pyplot 是將 Matplotlab 的物件導向函式庫再包裝成類似 Matlab 的函數式 API ，將許多繪圖物件的複雜結構隱藏起來，並透過有限狀態機 (state machine) 來追蹤目前圖表與子圖的狀態，呼叫 pyplot 所提供函數即可透過簡單的設定實現快速繪圖，非常適合用一般的資料圖形化繪圖 (但不適合用在大型程式設計) 。\n",
    "\n",
    "(1) 在繪圖區上繪圖：plt.plot(x, y)\\\n",
    "(2) 設定圖行屬性：plt.xticks()、plt.yticks()、plt.xlabel()、plt.ylabel()、plt.xlim()、plt.ylim()、plt.legend()、plt.title()\\\n",
    "(3) 設定次Y軸與否：pd.DataFrame.plot(secondary_y=True)、pd.DataFrame.plot(secondary_y=[0])\\\n",
    "(4) 存成圖片：plt.savefig('sample.jpg')\\\n",
    "(5) 顯示圖形：plt.show()"
   ]
  },
  {
   "cell_type": "code",
   "execution_count": null,
   "id": "d0eded7d",
   "metadata": {
    "scrolled": false
   },
   "outputs": [],
   "source": [
    "x = np.linspace(0, 5, 20)\n",
    "\n",
    "plt.figure(figsize = (6, 6))\n",
    "\n",
    "plt.plot(x, x**3, '+', label = 'x**3')               #輸入資料，設定圖表類型，以及線的記號\n",
    "plt.scatter(x, x**2, label = 'x**2')\n",
    "\n",
    "plt.title('Simple Plot')                             #設定標題\n",
    "plt.xlabel('x label')                                #設定x軸標題\n",
    "plt.ylabel('y label')                                #設定y軸標題\n",
    "\n",
    "plt.xlim(0, 6)                                       #設定x軸範圍\n",
    "plt.ylim(0, 150)                                     #設定y軸範圍\n",
    "\n",
    "plt.xticks(np.arange(0, 6, 0.5), labels = [], rotation = 45)        #設定x軸刻度和標籤\n",
    "plt.yticks(np.arange(0, 150, 10), labels = [])       #設定y軸刻度和標籤\n",
    "\n",
    "plt.grid(True)                                       #顯示背後格線\n",
    "plt.legend(loc = 7)                                  #開啟圖例，設定標籤和圖例位置\n",
    "plt.tight_layout(rect=(1,1,3,3))\n",
    "\n",
    "plt.show()                                           #顯示圖表"
   ]
  },
  {
   "cell_type": "markdown",
   "id": "477febc4",
   "metadata": {},
   "source": [
    "### plt.subplot(nrows, ncols, index)\n",
    "- 一次僅產生一個子圖\n",
    "- nrows：子圖產生的row數\n",
    "- ncols：子圖產生的col數\n",
    "- index：子圖索引值，從1開始，從左上角到右下角依次增加編號\n",
    "- 寫法：plt.subplot(1, 1, 1)或plt.subplot(111)\n",
    "- 語法：https://matplotlib.org/stable/api/_as_gen/matplotlib.pyplot.subplot.html"
   ]
  },
  {
   "cell_type": "code",
   "execution_count": null,
   "id": "3d2485ff",
   "metadata": {},
   "outputs": [],
   "source": [
    "plt.figure(figsize = (8, 8)) \n",
    "\n",
    "plt.subplot(2, 1, 1)\n",
    "plt.plot(x, np.sin(x), 'r')\n",
    "\n",
    "plt.subplot(2, 1, 2)\n",
    "plt.plot(x, np.cos(x), 'g')\n",
    "\n",
    "plt.show()"
   ]
  },
  {
   "cell_type": "markdown",
   "id": "3504073f",
   "metadata": {},
   "source": [
    "### plt.axes(left, bottom, width, height)\n",
    "- left：子圖左邊位置，範圍0~1\n",
    "- bottom：子圖下面位置，範圍0~1\n",
    "- width：圖的寬度，範圍0~1\n",
    "- height：圖的高度，範圍0~1\n",
    "- plt.axes(left, bottom, width, height) (左、下、寬、高)，範圍從左下角的0到右上角的1。\n",
    "- plt.axes([0.65, 0.65, 0.2, 0.2]) 從軸的寬度65%和圖的高度65%開始繪圖，往右上角繪製寬度20%與高度20%的子圖\n",
    "- 語法：https://matplotlib.org/stable/api/_as_gen/matplotlib.pyplot.axes.html"
   ]
  },
  {
   "cell_type": "code",
   "execution_count": null,
   "id": "dfde75fc",
   "metadata": {},
   "outputs": [],
   "source": [
    "plt.figure(figsize = (8, 8)) \n",
    "\n",
    "plt.axes([0.1, 0.1, .8, .8])\n",
    "plt.text(0.6, 0.6, 'text 1', ha = 'center', va = 'center', size = 20, alpha = .5)\n",
    "\n",
    "plt.axes([0.2, 0.2, .3, .3])\n",
    "plt.text(0.5, 0.5, 'text 2', ha = 'center', va = 'center', size = 16, alpha = .5)\n",
    "\n",
    "plt.show()"
   ]
  },
  {
   "cell_type": "markdown",
   "id": "37e674cd",
   "metadata": {},
   "source": [
    "## 2. 物件導向方式\n",
    "\n",
    "直接操控 Matplotlib 底層的 Figure (單一的繪圖容器) 與 Axes 物件 (具有邊界、刻度、與標籤之方框) 物件來繪圖, 使用者對於圖形有完全的操控能力，由於具有靈活性與可客製化優點，通常用於複雜度高的大型程式開發，雖然比 pyplot 要麻煩些, 但使用物件導向方式來繪圖其實主要也只是在呼叫 Figure 與 Axes 物件的各種方法而已。\n",
    "\n",
    "繪圖前需先建立figure與axes兩個物件。\n",
    "指定mxn畫布。\n",
    "plt函數轉換為ax方法：plt.plot() → ax.plot()、plt.legend() →ax.legend()、plt.nn → ax.set_nn\\\n",
    "(1) 建立畫布，或可理解為建立一個繪圖物件：fig = plt.figure()\\\n",
    "(2) 建立繪圖區：ax= fig.subplot(1. 1. 1)，或直接 fig, ax = plt.subplots()\\\n",
    "(3) 在繪圖區上繪圖：ax.plot(x, y)\\\n",
    "(4) 設定圖行屬性：ax.set_xticks()、ax.set_yticks()、ax.set_xticklabels()、ax.set_yticklabels()、ax.set_xlabel()、ax.set_ylabel()、ax.set_xlim()、ax.set_ylim()、ax.legend()、ax.set_title()\\\n",
    "(5) 設定次Y軸與否：ax2 = ax.twinx()\\\n",
    "(6) 存成圖片：fig.savefig('sample.jpg')\\\n",
    "(7) 顯示圖形：fig.show()"
   ]
  },
  {
   "cell_type": "markdown",
   "id": "abca555a",
   "metadata": {},
   "source": [
    "### fig, ax = plt.subplots(nrows=1, ncols=1, sharex='col', sharey='row')\n",
    "- 一次產生 mxn 數量的子圖，並回傳fig、axes\n",
    "- nrows：子圖產生的row數\n",
    "- ncols：子圖產生的col數\n",
    "- 語法：https://matplotlib.org/stable/api/_as_gen/matplotlib.pyplot.subplots.html"
   ]
  },
  {
   "cell_type": "code",
   "execution_count": null,
   "id": "abbc8810",
   "metadata": {},
   "outputs": [],
   "source": [
    "fig, ax = plt.subplots(figsize = (10, 5))\n",
    "ax.plot(df['date'], df['value'])\n",
    "plt.show()"
   ]
  },
  {
   "cell_type": "code",
   "execution_count": null,
   "id": "f302fad0",
   "metadata": {},
   "outputs": [],
   "source": [
    "fig, ax = plt.subplots(2, 2, figsize = (10, 5))\n",
    "\n",
    "ax[0,0].plot(x, np.sin(x))\n",
    "ax[0,1].plot(x, np.cos(x))\n",
    "ax[1,0].plot(x, x**1.5)\n",
    "ax[1,1].plot(x, x**2)\n",
    "\n",
    "plt.show()"
   ]
  },
  {
   "cell_type": "markdown",
   "id": "0524b8f4",
   "metadata": {},
   "source": [
    "### ax = fig.add_subplot()\n",
    "- 與 plt.subplot() 類似功能子圖設定 \n",
    "- plt.subplot() 會刪除已存在的子圖\n",
    "- fig.add_subplot() 會保留子圖及軸\n",
    "- 位置無法自行決定，兩個區域不會重疊"
   ]
  },
  {
   "cell_type": "code",
   "execution_count": null,
   "id": "720ad33c",
   "metadata": {},
   "outputs": [],
   "source": [
    "fig = plt.figure()\n",
    "\n",
    "ax1 = fig.add_subplot(2, 1, 1)\n",
    "ax1.plot(x, np.sin(x))\n",
    "\n",
    "ax2 = fig.add_subplot(2, 1, 2)\n",
    "ax2.plot(x, np.cos(x))\n",
    "\n",
    "plt.show()"
   ]
  },
  {
   "cell_type": "markdown",
   "id": "dcb85be0",
   "metadata": {},
   "source": [
    "### ax = fig.add_axes()\n",
    "位置可自行決定，兩個區域可以重疊"
   ]
  },
  {
   "cell_type": "code",
   "execution_count": null,
   "id": "0786a748",
   "metadata": {},
   "outputs": [],
   "source": [
    "plt.rcParams['axes.unicode_minus'] = False\n",
    "fig = plt.figure() \n",
    "\n",
    "ax1 = fig.add_axes([0.1, 0.5, 0.8, 0.4], xticklabels = [], ylim = (-1.2, 1.2)) \n",
    "ax1.plot(np.sin(x)) \n",
    "\n",
    "ax2 = fig.add_axes([0.1, 0.1, 0.8, 0.4], ylim = (-1.2, 1.2)) \n",
    "ax2.plot(np.cos(x))\n",
    "\n",
    "plt.show()"
   ]
  },
  {
   "cell_type": "markdown",
   "id": "5285180d",
   "metadata": {},
   "source": [
    "---"
   ]
  },
  {
   "cell_type": "markdown",
   "id": "220c7c3f",
   "metadata": {},
   "source": [
    "# 二、Matplotlib 繪圖\n",
    "## 1. 折線圖\n",
    "### plt.plot(x, y, fmt, data)\n",
    "- x：x 軸上的座標。型態為 array-like 或 data 的 column 名稱。\n",
    "- y：y 軸上的座標。型態為 array-like 或 data 的 column 名稱。\n",
    "- fmt：[marker][line][color] 格式的字串。。\n",
    "    - marker：點的樣式。\n",
    "    - line：線的樣式。\n",
    "    - color：顏色。\n",
    "- data：資料。\n",
    "- 語法：https://matplotlib.org/stable/api/_as_gen/matplotlib.pyplot.plot.html\n",
    "\n",
    "## 2. 條形圖\n",
    "### plt.bar(x, height, width=0.8, bottom=None, \\*, align='center', data=None, **kwargs)"
   ]
  },
  {
   "cell_type": "code",
   "execution_count": null,
   "id": "ff16a2cf",
   "metadata": {
    "scrolled": false
   },
   "outputs": [],
   "source": [
    "plt.bar([0, 1, 2, 3], [78, 67, 90, 81])\n",
    "plt.xticks([0, 1, 2, 3], labels = ['Jack', 'Mary', 'Mike', 'David'])"
   ]
  },
  {
   "cell_type": "markdown",
   "id": "0f7e626f",
   "metadata": {},
   "source": [
    "## 3. 直方圖\n",
    "### plt.hist(data, bins=30, density=True, alpha=0.5, histtype='stepfilled', color='steelblue', edgecolor='none')\n",
    "- arr：一維數組\n",
    "- bins：直方圖的柱數，可選項，預設為10\n",
    "- density：是否將得到的直方圖向量歸一化。預設為0\n",
    "- color：顏色序列，默認為None\n",
    "- facecolor：直方圖顏色\n",
    "- edgecolor：直方圖邊框顏色\n",
    "- alpha：透明度\n",
    "- histtype：直方圖類型，『bar』, 『barstacked』, 『step』, 『stepfilled』\n",
    "- 語法：https://matplotlib.org/stable/api/_as_gen/matplotlib.pyplot.hist.html"
   ]
  },
  {
   "cell_type": "code",
   "execution_count": null,
   "id": "19839687",
   "metadata": {
    "scrolled": true
   },
   "outputs": [],
   "source": [
    "kwargs = dict(bins=40, alpha=0.3, density=True, histtype = 'stepfilled') \n",
    "plt.hist(x, **kwargs)"
   ]
  },
  {
   "cell_type": "markdown",
   "id": "1817d0a3",
   "metadata": {},
   "source": [
    "## 4. 散點圖\n",
    "### plt.scatter(x, y, label='skitscat', color='magenta', s=500, marker=\"o\")\n",
    "- x：x軸資料\n",
    "- y：Y軸資料\n",
    "- label：圖例設定\n",
    "- c或color：標記顏色\n",
    "- s或sizes：設定 markersize\n",
    "- marker：標記資形狀\n",
    "- 用法：https://matplotlib.org/stable/api/_as_gen/matplotlib.pyplot.scatter.html"
   ]
  },
  {
   "cell_type": "code",
   "execution_count": null,
   "id": "10e2a8cb",
   "metadata": {},
   "outputs": [],
   "source": [
    "plt.scatter(x, y, c = 'magenta', marker=\"*\")"
   ]
  },
  {
   "cell_type": "markdown",
   "id": "e472a1f3",
   "metadata": {},
   "source": [
    "## 5. 圓餅圖\n",
    "### plt.pie(sizes, explode=explode, labels=labels, autopct='%1.1f%%', shadow=True, startangle=90)\n",
    "* sizes   :數值,1-D array\n",
    "* explod  :凸顯\n",
    "* labels  :圖例\n",
    "* autopct: 小數點位數呈現\n",
    "* 語法: https://matplotlib.org/stable/gallery/pie_and_polar_charts/pie_features.html\n",
    "* seaborn 沒有 pie 圖，所以 pie圖要採用 matplotlib !!"
   ]
  },
  {
   "cell_type": "code",
   "execution_count": null,
   "id": "1bde16ae",
   "metadata": {},
   "outputs": [],
   "source": [
    "plt.pie(data, labels = label, colors = color, startangle = 90, explode = (0,0,0,0.1), autopct = '%.2f%%')"
   ]
  },
  {
   "cell_type": "markdown",
   "id": "fe4de64c",
   "metadata": {},
   "source": [
    "## 6. 箱型圖"
   ]
  },
  {
   "cell_type": "code",
   "execution_count": null,
   "id": "30b53dcb",
   "metadata": {},
   "outputs": [],
   "source": [
    "plt.boxplot(tips.tip)"
   ]
  },
  {
   "cell_type": "markdown",
   "id": "cd493e84",
   "metadata": {},
   "source": [
    "## 補充：註釋與繪製箭頭等形狀\n",
    "除了圖例之外，有時也會需要繪製一些文字（text）、箭頭（arrow）或註釋（annotate）等，這時就可以使用下面三個方法：\n",
    "* plt.text()：在子圖的指定座標加上文字\n",
    "* plt.arrow()：在子圖的指定座標加上箭頭\n",
    "* plt.annotate()：註釋可以直接劃上文字和箭頭。"
   ]
  },
  {
   "cell_type": "code",
   "execution_count": null,
   "id": "ce24cd32",
   "metadata": {},
   "outputs": [],
   "source": [
    "plt.text(x, y, 'This is text', family = 'serif', fontsize = 12)"
   ]
  },
  {
   "cell_type": "markdown",
   "id": "4a1f56fd",
   "metadata": {},
   "source": [
    "## 補充：繪圖風格\n",
    "用已經被設計過的風格, 讓觀看者更清楚明瞭，包含色彩選擇、線條、樣式等"
   ]
  },
  {
   "cell_type": "code",
   "execution_count": null,
   "id": "f5fc1c1c",
   "metadata": {},
   "outputs": [],
   "source": [
    "plt.style.use('default')    # 不需設定就會使用預設\n",
    "plt.style.use('ggplot')\n",
    "plt.style.use('seaborn')    # 或採用 seaborn 套件繪圖 "
   ]
  },
  {
   "cell_type": "markdown",
   "id": "4574a111",
   "metadata": {},
   "source": [
    "---"
   ]
  },
  {
   "cell_type": "markdown",
   "id": "9ae5fee8",
   "metadata": {},
   "source": [
    "# 三、Seaborn繪圖\n",
    "* 底層用 Matplotlib 建構，Matplotlib 和 Seaborn 的關係就像 Tenserflow 與 Keras\n",
    "* 透過封裝的方式大幅度地簡化許多設定上的細節，且也美化的圖表本身的輸出\n",
    "* 圖像與配色相較 Matplotlib 美觀\n",
    "* 由於參數的系統化，導致調整不易，自由度較低"
   ]
  },
  {
   "cell_type": "code",
   "execution_count": null,
   "id": "b6b009e3",
   "metadata": {},
   "outputs": [],
   "source": [
    "sns.set(style = \"whitegrid\", font = 'Arial Unicode MS')\n",
    "\n",
    "tips = sns.load_dataset(\"tips\")\n",
    "tips.head()"
   ]
  },
  {
   "cell_type": "markdown",
   "id": "dc9dc4d2",
   "metadata": {},
   "source": [
    "## 1. 條形圖: sns.barplot()"
   ]
  },
  {
   "cell_type": "code",
   "execution_count": null,
   "id": "5859f38c",
   "metadata": {},
   "outputs": [],
   "source": [
    "ax = sns.barplot(x = 'sex', y = 'total_bill', data = tips, hue = \"time\")\n",
    "ax.set_title('吸菸與否帳單-性別')"
   ]
  },
  {
   "cell_type": "code",
   "execution_count": null,
   "id": "f1aed5ef",
   "metadata": {},
   "outputs": [],
   "source": [
    "grid = sns.FacetGrid(data = tips, col = \"time\")\n",
    "grid.map(sns.barplot, \"sex\", \"total_bill\", order = ['Male','Female'])"
   ]
  },
  {
   "cell_type": "code",
   "execution_count": null,
   "id": "ff04cfbf",
   "metadata": {},
   "outputs": [],
   "source": [
    "sns.countplot(x = \"sex\", data = tips)"
   ]
  },
  {
   "cell_type": "markdown",
   "id": "b039ac18",
   "metadata": {},
   "source": [
    "## 2. 直方圖,  核密度估計: sns.histplot(), sns.distplot(), sns.kdeplot()\n",
    "displot 可以同時呈現直方圖和密度圖，可以更好地去評估分布的組成"
   ]
  },
  {
   "cell_type": "code",
   "execution_count": null,
   "id": "bcf119c3",
   "metadata": {
    "scrolled": false
   },
   "outputs": [],
   "source": [
    "fig, ax = plt.subplots(1, 3, figsize=(16, 6))\n",
    "sns.histplot(tips.total_bill, kde = True, ax = ax[0])\n",
    "sns.distplot(tips.total_bill, ax = ax[1])\n",
    "sns.kdeplot(tips.total_bill, shade=True, ax = ax[2])\n",
    "plt.show()"
   ]
  },
  {
   "cell_type": "markdown",
   "id": "97764bc6",
   "metadata": {},
   "source": [
    "## 3. 散點圖：sns.regplot(), sns.lmplot(), sns.relplot(), sns.jointplot(), sns.pairplot()\n",
    "Seaborn 的 regplot 可同時繪製出散佈圖（scatter）和回歸（Regression），可以很快速地評估該資料是否有某種趨勢"
   ]
  },
  {
   "cell_type": "code",
   "execution_count": null,
   "id": "2371f28e",
   "metadata": {},
   "outputs": [],
   "source": [
    "sns.regplot(x = \"total_bill\", y = \"tip\", data = tips)"
   ]
  },
  {
   "cell_type": "code",
   "execution_count": null,
   "id": "956cf6d8",
   "metadata": {},
   "outputs": [],
   "source": [
    "sns.lmplot(x = \"total_bill\", y = \"tip\", col = 'time', hue  = 'smoker', data = tips)"
   ]
  },
  {
   "cell_type": "code",
   "execution_count": null,
   "id": "32b3de46",
   "metadata": {},
   "outputs": [],
   "source": [
    "sns.relplot(x = \"total_bill\", y = \"tip\", hue = \"smoker\", style = \"time\", data = tips)"
   ]
  },
  {
   "cell_type": "code",
   "execution_count": null,
   "id": "3c76b07a",
   "metadata": {},
   "outputs": [],
   "source": [
    "sns.jointplot(x = \"total_bill\", y = \"tip\", data = tips)"
   ]
  },
  {
   "cell_type": "code",
   "execution_count": null,
   "id": "047531ac",
   "metadata": {},
   "outputs": [],
   "source": [
    "sns.jointplot(x = \"total_bill\", y = \"tip\", data = tips, kind = 'reg')   #kind可以選擇scatter、reg、hex、kde、resid"
   ]
  },
  {
   "cell_type": "markdown",
   "id": "5f495234",
   "metadata": {},
   "source": [
    "- 六邊形分箱圖(kind = \"hex\")為散點圖的延伸，隨著數據量越大，數據會重疊在一起，較難看出趨勢集群體。以特定區域為單位，可以統計出這個區域裡散點的頻率，用顏色表示出現頻率高低。\n",
    "- pairplot 散點圖矩陣：在探索資料時，若能看到不同變數間的散點圖非常有幫助，但如果一個一個繪製不僅容易忘記，也很難直接看到不同變數間的關係。這時 pairplot 就派上用場了\n",
    "- facetgrid 層面圖與分組：可以使用 facetgrid 來依照多個分類進行視覺化"
   ]
  },
  {
   "cell_type": "code",
   "execution_count": null,
   "id": "2caf5968",
   "metadata": {},
   "outputs": [],
   "source": [
    "sns.jointplot(x = \"total_bill\", y = \"tip\", data = tips, kind = \"hex\", color = \"k\")      #非常適合展示大數據"
   ]
  },
  {
   "cell_type": "code",
   "execution_count": null,
   "id": "f5ab55c0",
   "metadata": {
    "scrolled": false
   },
   "outputs": [],
   "source": [
    "sns.pairplot(tips, kind = 'scatter', diag_kind = \"hist\", hue = \"time\", palette = \"husl\")"
   ]
  },
  {
   "cell_type": "code",
   "execution_count": null,
   "id": "eb555d53",
   "metadata": {
    "scrolled": false
   },
   "outputs": [],
   "source": [
    "grid = sns.PairGrid(data = tips, hue = 'time', palette = \"husl\", diag_sharey = False)\n",
    "grid.map_upper(sns.scatterplot)\n",
    "grid.map_diag(sns.kdeplot, lw = 2)\n",
    "grid.map_lower(sns.kdeplot)"
   ]
  },
  {
   "cell_type": "code",
   "execution_count": null,
   "id": "5320ad73",
   "metadata": {
    "scrolled": false
   },
   "outputs": [],
   "source": [
    "grid = sns.FacetGrid(data = tips, col = \"time\")\n",
    "grid.map(sns.scatterplot, \"total_bill\", \"tip\")"
   ]
  },
  {
   "cell_type": "markdown",
   "id": "3137c951",
   "metadata": {},
   "source": [
    "## 4. 箱型圖: sns.boxplot(), sns.violinplot()\n",
    "與箱型圖區別在於，小提琴圖是使用核密度圖  (描繪不同值的數據的機率密度) 可視化分組數值數據的另一種有效方法，也就是不是用真實資料點繪製。白點是中位數，小提琴內的黑色條是四分位數範圍(IQR)，延伸的黑線是Q1-1.5*IQR 和 Q3+1.5*IQR。小提琴情節的較寬部分表示高概率，較窄的部分表示低概率。"
   ]
  },
  {
   "cell_type": "code",
   "execution_count": null,
   "id": "0d31d0f8",
   "metadata": {},
   "outputs": [],
   "source": [
    "sns.boxplot(x = 'time', y = 'tip', data = tips)"
   ]
  },
  {
   "cell_type": "code",
   "execution_count": null,
   "id": "634bb22d",
   "metadata": {},
   "outputs": [],
   "source": [
    "sns.violinplot(x = \"time\", y = 'tip', data = tips)"
   ]
  },
  {
   "cell_type": "code",
   "execution_count": null,
   "id": "092b849d",
   "metadata": {},
   "outputs": [],
   "source": [
    "sns.stripplot(x = \"time\", y = \"tip\", data = tips, jitter = False)"
   ]
  },
  {
   "cell_type": "code",
   "execution_count": null,
   "id": "9f0fc484",
   "metadata": {},
   "outputs": [],
   "source": [
    "sns.swarmplot(x = \"time\", y = \"tip\", data = tips)     #適合小型數據集"
   ]
  },
  {
   "cell_type": "code",
   "execution_count": null,
   "id": "8f385cd4",
   "metadata": {},
   "outputs": [],
   "source": [
    "sns.catplot(x = \"time\", y = \"tip\", data = tips, kind = \"swarm\")"
   ]
  },
  {
   "cell_type": "markdown",
   "id": "726e6e3a",
   "metadata": {},
   "source": [
    "## 5. 熱力圖: sns.heatmap()"
   ]
  },
  {
   "cell_type": "code",
   "execution_count": null,
   "id": "ff6bc78d",
   "metadata": {},
   "outputs": [],
   "source": [
    "flights = sns.load_dataset(\"flights\")   # 載入航班數據\n",
    "flights = flights.pivot(\"month\", \"year\", \"passengers\")  #修改數據排列\n",
    "sns.heatmap(flights, linewidths=1 , cmap=\"YlGnBu\", cbar=False) # 劃分每格單元的行寬度，使用不同的colormap，取消顏色條"
   ]
  },
  {
   "cell_type": "markdown",
   "id": "f0a8fa79",
   "metadata": {},
   "source": [
    "---"
   ]
  },
  {
   "cell_type": "markdown",
   "id": "76a508c8",
   "metadata": {},
   "source": [
    "# 四、Dataframe 繪圖\n",
    "## 1. 折線圖 (呈現趨勢變化)"
   ]
  },
  {
   "cell_type": "code",
   "execution_count": null,
   "id": "6abc9a32",
   "metadata": {},
   "outputs": [],
   "source": [
    "df.plot()"
   ]
  },
  {
   "cell_type": "markdown",
   "id": "b56845e1",
   "metadata": {},
   "source": [
    "## 2. 條形圖 (用在數值的顯示或者比較)"
   ]
  },
  {
   "cell_type": "code",
   "execution_count": null,
   "id": "9821eda9",
   "metadata": {},
   "outputs": [],
   "source": [
    "df.plot.bar(stacked = True)"
   ]
  },
  {
   "cell_type": "markdown",
   "id": "9eb92c34",
   "metadata": {},
   "source": [
    "## 3. 直方圖 (分佈)"
   ]
  },
  {
   "cell_type": "code",
   "execution_count": null,
   "id": "b9032e72",
   "metadata": {},
   "outputs": [],
   "source": [
    "df.hist(column = 'tip', bins = 20)"
   ]
  },
  {
   "cell_type": "markdown",
   "id": "827dafa3",
   "metadata": {},
   "source": [
    "## 4. 箱型圖 (分佈)"
   ]
  },
  {
   "cell_type": "code",
   "execution_count": null,
   "id": "d7cc11a0",
   "metadata": {},
   "outputs": [],
   "source": [
    "df.boxplot(column = 'tip', by = 'time')"
   ]
  },
  {
   "cell_type": "markdown",
   "id": "27a7e960",
   "metadata": {},
   "source": [
    "## 5. 散點圖 (呈現相關數值間的關係)"
   ]
  },
  {
   "cell_type": "code",
   "execution_count": null,
   "id": "73a5aa64",
   "metadata": {},
   "outputs": [],
   "source": [
    "df.plot.scatter(x = 'col1', y = 'col2')"
   ]
  },
  {
   "cell_type": "markdown",
   "id": "79f36b3f",
   "metadata": {},
   "source": [
    "## 6. 圓餅圖 (呈現不同種類資料，在整體資料所佔比例)"
   ]
  },
  {
   "cell_type": "code",
   "execution_count": null,
   "id": "510ecddf",
   "metadata": {},
   "outputs": [],
   "source": [
    "df.plot.pie()"
   ]
  },
  {
   "cell_type": "markdown",
   "id": "91639bd6",
   "metadata": {},
   "source": [
    "---"
   ]
  },
  {
   "cell_type": "markdown",
   "id": "d12d30c5",
   "metadata": {},
   "source": [
    "# 五、Plotly 繪圖\n",
    "plotly套件安裝: pip install plotly。安裝完可能需要更新numpy: pip install numpy --upgrade"
   ]
  },
  {
   "cell_type": "code",
   "execution_count": null,
   "id": "61ba15eb",
   "metadata": {},
   "outputs": [],
   "source": [
    "import plotly.graph_objects as go\n",
    "import plotly.express as px\n",
    "from plotly.subplots import make_subplots"
   ]
  },
  {
   "cell_type": "code",
   "execution_count": null,
   "id": "08c02fc7",
   "metadata": {},
   "outputs": [],
   "source": [
    "fig = px.choropleth(df3, locations = df3['Country/Region'],\n",
    "                    color = df3['Confirmed'], locationmode = 'country names', \n",
    "                    hover_name = df3['Country/Region'], \n",
    "                    color_continuous_scale = px.colors.sequential.Tealgrn,\n",
    "                    template = 'plotly_dark')\n",
    "fig.update_layout(\n",
    "    title = 'Confirmed Cases In Each Country',\n",
    ")\n",
    "fig.show()"
   ]
  },
  {
   "cell_type": "code",
   "execution_count": null,
   "id": "74612053",
   "metadata": {},
   "outputs": [],
   "source": [
    "fig = px.choropleth(df1, locations = df1['Country/Region'],\n",
    "                    color = df1['Confirmed'], locationmode = 'country names', \n",
    "                    hover_name = df1['Country/Region'], \n",
    "                    color_continuous_scale = px.colors.sequential.deep,\n",
    "                    template = 'plotly_dark', \n",
    "                    animation_frame = \"ObservationDate\")\n",
    "fig.update_layout(\n",
    "    title = 'Evolution of confirmed cases In Each Country',\n",
    ")\n",
    "fig.show()"
   ]
  },
  {
   "cell_type": "code",
   "execution_count": null,
   "id": "a7a67471",
   "metadata": {},
   "outputs": [],
   "source": []
  },
  {
   "cell_type": "code",
   "execution_count": null,
   "id": "a1527602",
   "metadata": {},
   "outputs": [],
   "source": []
  },
  {
   "cell_type": "code",
   "execution_count": null,
   "id": "69f97c64",
   "metadata": {},
   "outputs": [],
   "source": [
    "from wordcloud import WordCloud\n",
    "wordcloud = WordCloud(width = 600, height = 400).generate(text)\n",
    "wordcloud.to_image()"
   ]
  }
 ],
 "metadata": {
  "kernelspec": {
   "display_name": "Python 3 (ipykernel)",
   "language": "python",
   "name": "python3"
  },
  "language_info": {
   "codemirror_mode": {
    "name": "ipython",
    "version": 3
   },
   "file_extension": ".py",
   "mimetype": "text/x-python",
   "name": "python",
   "nbconvert_exporter": "python",
   "pygments_lexer": "ipython3",
   "version": "3.9.0"
  }
 },
 "nbformat": 4,
 "nbformat_minor": 5
}
